{
 "cells": [
  {
   "cell_type": "markdown",
   "metadata": {},
   "source": [
    "+ 1.读取训练集和测试集数据进行预处理\n",
    "+ 2.训练逻辑回归模型\n",
    "+ 3.保存模型\n",
    "+ 4.读取基因数据（基因数据不全，经过预处理大概16000个）\n",
    "+ 5.定义特征计算函数\n",
    "+ 6.封装预测函数（输入需要预测的trf序列进行特征计算）\n",
    "+ 7.调用保存的模型进行预测\n",
    "+ 8.输出靶标基因并写入csv文件中\n"
   ]
  },
  {
   "cell_type": "code",
   "execution_count": null,
   "metadata": {},
   "outputs": [],
   "source": [
    "# 加载数据预处理\n",
    "#upload data and package\n",
    "import pandas as pd\n",
    "import mglearn\n",
    "import numpy as np\n",
    "import matplotlib.pyplot as plt\n",
    "from sklearn.model_selection import train_test_split\n",
    "\n",
    "trf_train_data = pd.read_csv(\"E:\\\\Windows-SSD\\\\Program Files (x86)\\\\Common Files\\\\Designer\\\\tRF_prediction\\\\data\\\\train_data.csv\")\n",
    "trf_test_data = pd.read_csv(\"E:\\\\Windows-SSD\\\\Program Files (x86)\\\\Common Files\\\\Designer\\\\tRF_prediction\\\\data\\\\test_data.csv\")\n",
    "\n"
   ]
  },
  {
   "cell_type": "code",
   "execution_count": null,
   "metadata": {},
   "outputs": [],
   "source": [
    "#设置训练集和测试集数据\n",
    "train_data = trf_train_data[trf_train_data.columns[9:16]]\n",
    "train_data = np.array(train_data).tolist()\n",
    "\n",
    "test_data = trf_test_data[trf_test_data.columns[9:16]]\n",
    "test_data = np.array(test_data).tolist()"
   ]
  },
  {
   "cell_type": "code",
   "execution_count": null,
   "metadata": {},
   "outputs": [],
   "source": [
    "#设置标签数据\n",
    "train_data_label = np.array(trf_train_data).tolist()\n",
    "train_data_label = [i[16] for i in train_data_label]\n",
    "\n",
    "test_data_label = np.array(trf_test_data).tolist()\n",
    "test_data_label = [i[16] for i in test_data_label]"
   ]
  },
  {
   "cell_type": "code",
   "execution_count": null,
   "metadata": {},
   "outputs": [],
   "source": [
    "X_train = train_data\n",
    "X_test = test_data\n",
    "y_train = train_data_label\n",
    "y_test = test_data_label"
   ]
  },
  {
   "cell_type": "code",
   "execution_count": null,
   "metadata": {},
   "outputs": [],
   "source": [
    "#使用逻辑回归模型(0.1)\n",
    "from sklearn.linear_model import LogisticRegression\n",
    "from sklearn.model_selection import cross_val_score\n",
    "from sklearn.model_selection import KFold\n",
    "kfold = KFold(n_splits=5,shuffle=True, random_state=0)\n",
    "#正则化系数C = 1时(可调节参数C)\n",
    "logreg = LogisticRegression(C = 0.001).fit(X_train, y_train)\n",
    "\n",
    "\n",
    "print(\"Training set score: {:.3f}\".format(logreg.score(X_train, y_train)))\n",
    "print(\"Test set score: {:.3f}\".format(logreg.score(X_test, y_test)))\n",
    "print(\"The feature weight: {}\".format(logreg.coef_))"
   ]
  },
  {
   "cell_type": "code",
   "execution_count": null,
   "metadata": {},
   "outputs": [],
   "source": [
    "#保存模型\n",
    "import joblib\n",
    "joblib.dump(logreg,\"E:\\\\Windows-SSD\\\\Program Files (x86)\\\\Common Files\\\\Designer\\\\tRF_prediction\\\\data\\\\logreg.pkl\")"
   ]
  },
  {
   "cell_type": "code",
   "execution_count": null,
   "metadata": {},
   "outputs": [],
   "source": [
    "#读取基因列表\n",
    "gene_list = pd.read_csv(\"E:\\\\Windows-SSD\\\\Program Files (x86)\\\\Common Files\\\\Designer\\\\tRF_prediction\\\\data\\\\unique_gene.csv\")\n",
    "gene_list = gene_list.iloc[:,1:5]"
   ]
  },
  {
   "cell_type": "code",
   "execution_count": null,
   "metadata": {},
   "outputs": [],
   "source": [
    "#定义特征计算函数\n",
    "\n",
    "#1.创建一个trf序列的列表\n",
    "def create(trf):\n",
    "    seq = [trf]\n",
    "    trf_seq = pd.DataFrame(seq*16606)\n",
    "    trf_seq.columns = [\"trf_seq\"]\n",
    "    return trf_seq\n",
    "\n",
    "#计算AU含量\n",
    "def AU_contant(trf_feature):\n",
    "    AU_list = pd.DataFrame([0]*len(trf_feature))\n",
    "    AU_list.columns = [\"AU_contant\"]\n",
    "    for i in range(len(trf_feature)):\n",
    "        upscore = 0\n",
    "        downscore = 0\n",
    "        for j in range(30):\n",
    "            if(trf_feature.iloc[i,2][j] == \"A\" or trf_feature.iloc[i,2][j] == \"T\"):\n",
    "                upscore += 1/(j+1)\n",
    "            if(trf_feature.iloc[i,3][j] == \"A\" or trf_feature.iloc[i,3][j] == \"T\"):\n",
    "                downscore += 1/(j+1)\n",
    "        AU_list.iloc[i,0] = (upscore + downscore)/2\n",
    "    trf_feature = pd.concat([trf_feature,AU_list],axis = 1)\n",
    "    return trf_feature\n",
    "\n",
    "#看该位点是否匹配\n",
    "def ispaired(nt):\n",
    "    if nt == \"A\":\n",
    "        return \"T\"\n",
    "    if nt == \"T\":\n",
    "        return \"A\"\n",
    "    if nt == \"G\":\n",
    "        return \"C\"\n",
    "    if nt == \"C\":\n",
    "        return \"G\"\n",
    "    else:\n",
    "        return \"\"\n",
    "\n",
    "# 确定结合区位置\n",
    "def bind_loc(trf_feature):\n",
    "    start_loc = pd.DataFrame([0]*len(trf_feature))\n",
    "    start_loc.columns = [\"start_loc\"]\n",
    "    end_loc = pd.DataFrame([0]*len(trf_feature))\n",
    "    end_loc.columns = [\"end_loc\"]\n",
    "    for i in range(len(trf_feature)):\n",
    "        seq = trf_feature.iloc[i,0][0]\n",
    "        for j in range(len(trf_feature.iloc[i,2])):\n",
    "            if ispaired(seq) == trf_feature.iloc[i,2][j]:\n",
    "                start_loc.iloc[i,0] = j\n",
    "                end_loc.iloc[i,0] = j + len(trf_feature.iloc[i,0])\n",
    "                break\n",
    "    trf_feature = pd.concat([trf_feature,start_loc],axis = 1)\n",
    "    trf_feature = pd.concat([trf_feature,end_loc],axis = 1)\n",
    "    return trf_feature\n",
    "\n",
    "\n",
    "#统计结合位点数    \n",
    "def bind_num(trf_feature):\n",
    "    count_paired = pd.DataFrame([0]*len(trf_feature))\n",
    "    count_paired.columns = [\"count_paired\"]\n",
    "    for i in range(len(trf_feature)):\n",
    "        count_num = 0\n",
    "        for j in range(min(len(trf_feature.iloc[i,0]),len(trf_feature.iloc[i,2])-trf_feature.iloc[i,6])):\n",
    "            if ispaired(trf_feature.iloc[i,0][j]) == trf_feature.iloc[i,2][trf_feature.iloc[i,6]+j]:\n",
    "                count_num += 1\n",
    "        count_paired.iloc[i,0] = count_num\n",
    "    trf_feature = pd.concat([trf_feature,count_paired],axis = 1)\n",
    "    return trf_feature\n",
    "\n",
    "#计算字符串中最长的连续字符数\n",
    "def maxDup(strs):\n",
    "    n=len(strs)\n",
    "    maxlen=1\n",
    "    length=1\n",
    "    maxstr=[]\n",
    "    for i in range(n-1): \n",
    "        if strs[i]==strs[i+1]:\n",
    "            length+=1\n",
    "            maxstr.append(strs[i+1])\n",
    "            if length>maxlen:\n",
    "                maxlen=length\n",
    "        else:\n",
    "            length=1\n",
    "    return maxlen\n",
    "\n",
    "\n",
    "#计算结合区的长度\n",
    "def bind_length(trf_feature):\n",
    "    max_length = pd.DataFrame([0]*len(trf_feature))\n",
    "    max_length.columns = [\"max_length\"]\n",
    "    pos_longest = pd.DataFrame([0]*len(trf_feature))\n",
    "    pos_longest.columns = [\"pos_longest\"]\n",
    "    for i in range(len(trf_feature)):\n",
    "        seq = \"\"\n",
    "        for j in range(min(len(trf_feature.iloc[i,0]),len(trf_feature.iloc[i,2])-trf_feature.iloc[i,6])):\n",
    "            if ispaired(trf_feature.iloc[i,0][j]) == trf_feature.iloc[i,2][trf_feature.iloc[i,6]+j]:\n",
    "                seq += \"T\"\n",
    "            else:\n",
    "                seq += str(j)\n",
    "        max_length.iloc[i,0] = maxDup(seq)\n",
    "        pos_longest.iloc[i,0] = len(seq)\n",
    "    trf_feature = pd.concat([trf_feature,max_length],axis = 1)\n",
    "    trf_feature = pd.concat([trf_feature,pos_longest],axis = 1)\n",
    "    return trf_feature\n",
    "        \n",
    "#计算3'区的结合位点数\n",
    "def three_prime(trf_feature):\n",
    "    three_prime = pd.DataFrame([0]*len(trf_feature))\n",
    "    three_prime.columns = [\"three_prime\"]\n",
    "    for i in range(len(trf_feature)):\n",
    "        count_num = 0\n",
    "        for j in range(min(7,len(trf_feature.iloc[i,2])-trf_feature.iloc[i,6])):\n",
    "            if ispaired(trf_feature.iloc[i,0][j]) == trf_feature.iloc[i,2][trf_feature.iloc[i,6]+j]:\n",
    "                count_num += 1\n",
    "        three_prime.iloc[i,0] = count_num\n",
    "    trf_feature = pd.concat([trf_feature,three_prime],axis = 1)\n",
    "    return trf_feature\n",
    "    \n",
    "#输出trf特征列表   \n",
    "def feature_calculation(trf_seq,trf_list):\n",
    "    trf = create(trf_seq)\n",
    "    trf_feature = pd.concat([trf,trf_list],axis = 1)\n",
    "    trf_feature = AU_contant(trf_feature)\n",
    "    trf_feature = bind_loc(trf_feature)\n",
    "    trf_feature = bind_num(trf_feature)\n",
    "    trf_feature = bind_length(trf_feature)\n",
    "    trf_feature = three_prime(trf_feature)\n",
    "    return trf_feature"
   ]
  },
  {
   "cell_type": "code",
   "execution_count": null,
   "metadata": {},
   "outputs": [],
   "source": [
    "#计算特征\n",
    "trf_sequence = input(\"please input your trf sequence:\")\n",
    "trf_feature = feature_calculation(trf_sequence, gene_list)"
   ]
  },
  {
   "cell_type": "code",
   "execution_count": null,
   "metadata": {},
   "outputs": [],
   "source": [
    "#获取测试集数据\n",
    "test_data = trf_feature.iloc[:,5:12]\n",
    "test_data = np.array(test_data).tolist()"
   ]
  },
  {
   "cell_type": "code",
   "execution_count": null,
   "metadata": {},
   "outputs": [],
   "source": [
    "#调用模型\n",
    "import joblib\n",
    "logreg = joblib.load(\"E:\\\\Windows-SSD\\\\Program Files (x86)\\\\Common Files\\\\Designer\\\\tRF_prediction\\\\data\\\\logreg.pkl\")\n",
    "#输入测试集数据进行预测，并输出靶标基因名\n",
    "result_label = logreg.predict(test_data)\n",
    "target_gene = []\n",
    "for i in range(len(result_label)):\n",
    "    if result_label[i] == 1:\n",
    "        print(trf_feature.iloc[i,1])\n",
    "        target_gene.append(trf_feature.iloc[i,1])"
   ]
  },
  {
   "cell_type": "code",
   "execution_count": null,
   "metadata": {},
   "outputs": [],
   "source": [
    "#将靶标基因写入csv文件中\n",
    "target = pd.DataFrame(columns = [\"gene\"],data = target_gene)\n",
    "target.to_csv(\"E:\\\\Windows-SSD\\\\Program Files (x86)\\\\Common Files\\\\Designer\\\\tRF_prediction\\\\data\\\\target_gene.csv\")"
   ]
  }
 ],
 "metadata": {
  "kernelspec": {
   "display_name": "Python 3",
   "language": "python",
   "name": "python3"
  },
  "language_info": {
   "codemirror_mode": {
    "name": "ipython",
    "version": 3
   },
   "file_extension": ".py",
   "mimetype": "text/x-python",
   "name": "python",
   "nbconvert_exporter": "python",
   "pygments_lexer": "ipython3",
   "version": "3.8.5"
  }
 },
 "nbformat": 4,
 "nbformat_minor": 4
}
