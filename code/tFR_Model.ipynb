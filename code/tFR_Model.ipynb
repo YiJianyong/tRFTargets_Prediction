{
 "cells": [
  {
   "cell_type": "markdown",
   "metadata": {},
   "source": [
    "# version 1 \n",
    "\n",
    "\n",
    "+ 1.读取训练集和测试集数据进行预处理\n",
    "+ 2.训练逻辑回归模型\n",
    "+ 3.保存模型\n",
    "+ 4.读取基因数据（基因数据不全，经过预处理大概16000个）\n",
    "+ 5.定义特征计算函数(继续优化)\n",
    "+ 6.封装预测函数（输入需要预测的trf序列进行特征计算）\n",
    "+ 7.调用保存的模型进行预测\n",
    "+ 8.输出靶标基因并写入csv文件中\n",
    "\n",
    "+ 修改（增加预测参数，选择靶基因的结合区：3' or 5' or cds）\n"
   ]
  },
  {
   "cell_type": "markdown",
   "metadata": {},
   "source": [
    "# 模型训练部分"
   ]
  },
  {
   "cell_type": "code",
   "execution_count": null,
   "metadata": {},
   "outputs": [],
   "source": [
    "# 加载数据预处理\n",
    "#upload data and package\n",
    "import pandas as pd\n",
    "import mglearn\n",
    "import numpy as np\n",
    "import matplotlib.pyplot as plt\n",
    "from sklearn.model_selection import train_test_split\n",
    "\n",
    "trf_train_data = pd.read_csv(\"E:\\\\Windows-SSD\\\\Program Files (x86)\\\\Common Files\\\\Designer\\\\tRF_prediction\\\\data\\\\train_data_3.csv\")\n",
    "trf_test_data = pd.read_csv(\"E:\\\\Windows-SSD\\\\Program Files (x86)\\\\Common Files\\\\Designer\\\\tRF_prediction\\\\data\\\\test_data_3.csv\")\n",
    "\n"
   ]
  },
  {
   "cell_type": "code",
   "execution_count": null,
   "metadata": {},
   "outputs": [],
   "source": [
    "#设置训练集和测试集数据\n",
    "train_data = trf_train_data[trf_train_data.columns[9:16]]\n",
    "train_data = np.array(train_data).tolist()\n",
    "\n",
    "test_data = trf_test_data[trf_test_data.columns[9:16]]\n",
    "test_data = np.array(test_data).tolist()"
   ]
  },
  {
   "cell_type": "code",
   "execution_count": null,
   "metadata": {},
   "outputs": [],
   "source": [
    "#设置标签数据\n",
    "train_data_label = np.array(trf_train_data).tolist()\n",
    "train_data_label = [i[16] for i in train_data_label]\n",
    "\n",
    "test_data_label = np.array(trf_test_data).tolist()\n",
    "test_data_label = [i[16] for i in test_data_label]"
   ]
  },
  {
   "cell_type": "code",
   "execution_count": null,
   "metadata": {},
   "outputs": [],
   "source": [
    "X_train = train_data\n",
    "X_test = test_data\n",
    "y_train = train_data_label\n",
    "y_test = test_data_label"
   ]
  },
  {
   "cell_type": "code",
   "execution_count": null,
   "metadata": {},
   "outputs": [],
   "source": [
    "#使用逻辑回归模型(0.1)\n",
    "from sklearn.linear_model import LogisticRegression\n",
    "from sklearn.model_selection import cross_val_score\n",
    "from sklearn.model_selection import KFold\n",
    "kfold = KFold(n_splits=5,shuffle=True, random_state=0)\n",
    "#正则化系数C = 1时(可调节参数C)\n",
    "logreg = LogisticRegression(C = 0.001).fit(X_train, y_train)\n",
    "\n",
    "\n",
    "print(\"Training set score: {:.3f}\".format(logreg.score(X_train, y_train)))\n",
    "print(\"Test set score: {:.3f}\".format(logreg.score(X_test, y_test)))\n",
    "print(\"The feature weight: {}\".format(logreg.coef_))"
   ]
  },
  {
   "cell_type": "markdown",
   "metadata": {},
   "source": [
    "# 模型预测部分\n",
    "\n",
    "## 1.保存训练好的模型\n",
    "\n",
    "## 2.定义特征计算函数\n",
    "\n",
    "## 3. 设置模型预测参数"
   ]
  },
  {
   "cell_type": "code",
   "execution_count": null,
   "metadata": {},
   "outputs": [],
   "source": [
    "#保存模型\n",
    "import joblib\n",
    "joblib.dump(logreg,\"E:\\\\Windows-SSD\\\\Program Files (x86)\\\\Common Files\\\\Designer\\\\tRF_prediction\\\\data\\\\logreg.pkl\")"
   ]
  },
  {
   "cell_type": "code",
   "execution_count": null,
   "metadata": {},
   "outputs": [],
   "source": [
    "#读取基因列表\n",
    "gene_list = pd.read_csv(\"E:\\\\Windows-SSD\\\\Program Files (x86)\\\\Common Files\\\\Designer\\\\tRF_prediction\\\\data\\\\unique_gene.csv\")\n",
    "gene_list = gene_list.iloc[:,1:5]"
   ]
  },
  {
   "cell_type": "code",
   "execution_count": null,
   "metadata": {},
   "outputs": [],
   "source": [
    "#定义特征计算函数\n",
    "\n",
    "#1.创建一个trf序列的列表\n",
    "def create(trf):\n",
    "    seq = [trf]\n",
    "    trf_seq = pd.DataFrame(seq*16606)\n",
    "    trf_seq.columns = [\"trf_seq\"]\n",
    "    return trf_seq\n",
    "\n",
    "#计算AU含量\n",
    "def AU_contant(trf_feature):\n",
    "    AU_list = pd.DataFrame([0]*len(trf_feature))\n",
    "    AU_list.columns = [\"AU_contant\"]\n",
    "    for i in range(len(trf_feature)):\n",
    "        upscore = 0\n",
    "        downscore = 0\n",
    "        for j in range(30):\n",
    "            if(trf_feature.iloc[i,2][j] == \"A\" or trf_feature.iloc[i,2][j] == \"T\"):\n",
    "                upscore += 1/(j+1)\n",
    "            if(trf_feature.iloc[i,3][j] == \"A\" or trf_feature.iloc[i,3][j] == \"T\"):\n",
    "                downscore += 1/(j+1)\n",
    "        AU_list.iloc[i,0] = (upscore + downscore)/2\n",
    "    trf_feature = pd.concat([trf_feature,AU_list],axis = 1)\n",
    "    return trf_feature\n",
    "\n",
    "#看该位点是否匹配\n",
    "def ispaired(nt):\n",
    "    if nt == \"A\":\n",
    "        return \"T\"\n",
    "    if nt == \"T\":\n",
    "        return \"A\"\n",
    "    if nt == \"G\":\n",
    "        return \"C\"\n",
    "    if nt == \"C\":\n",
    "        return \"G\"\n",
    "    else:\n",
    "        return \"\"\n",
    "\n",
    "# 确定结合区位置\n",
    "def bind_loc(trf_feature):\n",
    "    start_loc = pd.DataFrame([0]*len(trf_feature))\n",
    "    start_loc.columns = [\"start_loc\"]\n",
    "    end_loc = pd.DataFrame([0]*len(trf_feature))\n",
    "    end_loc.columns = [\"end_loc\"]\n",
    "    for i in range(len(trf_feature)):\n",
    "        seq = trf_feature.iloc[i,0][0]\n",
    "        for j in range(len(trf_feature.iloc[i,2])):\n",
    "            if ispaired(seq) == trf_feature.iloc[i,2][j]:\n",
    "                start_loc.iloc[i,0] = j\n",
    "                end_loc.iloc[i,0] = j + len(trf_feature.iloc[i,0])\n",
    "                break\n",
    "    trf_feature = pd.concat([trf_feature,start_loc],axis = 1)\n",
    "    trf_feature = pd.concat([trf_feature,end_loc],axis = 1)\n",
    "    return trf_feature\n",
    "\n",
    "\n",
    "#统计结合位点数    \n",
    "def bind_num(trf_feature):\n",
    "    count_paired = pd.DataFrame([0]*len(trf_feature))\n",
    "    count_paired.columns = [\"count_paired\"]\n",
    "    for i in range(len(trf_feature)):\n",
    "        count_num = 0\n",
    "        for j in range(min(len(trf_feature.iloc[i,0]),len(trf_feature.iloc[i,2])-trf_feature.iloc[i,6])):\n",
    "            if ispaired(trf_feature.iloc[i,0][j]) == trf_feature.iloc[i,2][trf_feature.iloc[i,6]+j]:\n",
    "                count_num += 1\n",
    "        count_paired.iloc[i,0] = count_num\n",
    "    trf_feature = pd.concat([trf_feature,count_paired],axis = 1)\n",
    "    return trf_feature\n",
    "\n",
    "#计算字符串中最长的连续字符数\n",
    "def maxDup(strs):\n",
    "    n=len(strs)\n",
    "    maxlen=1\n",
    "    length=1\n",
    "    maxstr=[]\n",
    "    for i in range(n-1): \n",
    "        if strs[i]==strs[i+1]:\n",
    "            length+=1\n",
    "            maxstr.append(strs[i+1])\n",
    "            if length>maxlen:\n",
    "                maxlen=length\n",
    "        else:\n",
    "            length=1\n",
    "    return maxlen\n",
    "\n",
    "\n",
    "#计算结合区的长度\n",
    "def bind_length(trf_feature):\n",
    "    max_length = pd.DataFrame([0]*len(trf_feature))\n",
    "    max_length.columns = [\"max_length\"]\n",
    "    pos_longest = pd.DataFrame([0]*len(trf_feature))\n",
    "    pos_longest.columns = [\"pos_longest\"]\n",
    "    for i in range(len(trf_feature)):\n",
    "        seq = \"\"\n",
    "        for j in range(min(len(trf_feature.iloc[i,0]),len(trf_feature.iloc[i,2])-trf_feature.iloc[i,6])):\n",
    "            if ispaired(trf_feature.iloc[i,0][j]) == trf_feature.iloc[i,2][trf_feature.iloc[i,6]+j]:\n",
    "                seq += \"T\"\n",
    "            else:\n",
    "                seq += str(j)\n",
    "        max_length.iloc[i,0] = maxDup(seq)\n",
    "        pos_longest.iloc[i,0] = len(seq)\n",
    "    trf_feature = pd.concat([trf_feature,max_length],axis = 1)\n",
    "    trf_feature = pd.concat([trf_feature,pos_longest],axis = 1)\n",
    "    return trf_feature\n",
    "        \n",
    "#计算3'区的结合位点数\n",
    "def three_prime(trf_feature):\n",
    "    three_prime = pd.DataFrame([0]*len(trf_feature))\n",
    "    three_prime.columns = [\"three_prime\"]\n",
    "    for i in range(len(trf_feature)):\n",
    "        count_num = 0\n",
    "        for j in range(min(7,len(trf_feature.iloc[i,2])-trf_feature.iloc[i,6])):\n",
    "            if ispaired(trf_feature.iloc[i,0][j]) == trf_feature.iloc[i,2][trf_feature.iloc[i,6]+j]:\n",
    "                count_num += 1\n",
    "        three_prime.iloc[i,0] = count_num\n",
    "    trf_feature = pd.concat([trf_feature,three_prime],axis = 1)\n",
    "    return trf_feature\n",
    "    \n",
    "#输出trf特征列表   \n",
    "def feature_calculation(trf_seq,trf_list):\n",
    "    trf = create(trf_seq)\n",
    "    trf_feature = pd.concat([trf,trf_list],axis = 1)\n",
    "    trf_feature = AU_contant(trf_feature)\n",
    "    trf_feature = bind_loc(trf_feature)\n",
    "    trf_feature = bind_num(trf_feature)\n",
    "    trf_feature = bind_length(trf_feature)\n",
    "    trf_feature = three_prime(trf_feature)\n",
    "    return trf_feature"
   ]
  },
  {
   "cell_type": "code",
   "execution_count": null,
   "metadata": {},
   "outputs": [],
   "source": [
    "#计算特征\n",
    "trf_sequence = input(\"please input your trf sequence:\")\n",
    "trf_feature = feature_calculation(trf_sequence, gene_list)"
   ]
  },
  {
   "cell_type": "code",
   "execution_count": null,
   "metadata": {},
   "outputs": [],
   "source": [
    "#获取测试集数据\n",
    "test_data = trf_feature.iloc[:,5:12]\n",
    "test_data = np.array(test_data).tolist()"
   ]
  },
  {
   "cell_type": "code",
   "execution_count": null,
   "metadata": {},
   "outputs": [],
   "source": [
    "#调用模型\n",
    "import joblib\n",
    "logreg = joblib.load(\"E:\\\\Windows-SSD\\\\Program Files (x86)\\\\Common Files\\\\Designer\\\\tRF_prediction\\\\data\\\\logreg.pkl\")\n",
    "#输入测试集数据进行预测，并输出靶标基因名\n",
    "result_label = logreg.predict(test_data)\n",
    "target_gene = []\n",
    "for i in range(len(result_label)):\n",
    "    if result_label[i] == 1:\n",
    "        print(trf_feature.iloc[i,1])\n",
    "        target_gene.append(trf_feature.iloc[i,1])"
   ]
  },
  {
   "cell_type": "code",
   "execution_count": null,
   "metadata": {},
   "outputs": [],
   "source": [
    "#将靶标基因写入csv文件中\n",
    "target = pd.DataFrame(columns = [\"gene\"],data = target_gene)\n",
    "target.to_csv(\"E:\\\\Windows-SSD\\\\Program Files (x86)\\\\Common Files\\\\Designer\\\\tRF_prediction\\\\data\\\\target_gene.csv\")"
   ]
  },
  {
   "cell_type": "code",
   "execution_count": null,
   "metadata": {},
   "outputs": [],
   "source": []
  },
  {
   "cell_type": "markdown",
   "metadata": {},
   "source": [
    "# version2\n",
    "\n",
    "+ 训练了三个模型（分别预测trf结合在基因不同区域：3'、5’、cds）\n",
    "\n",
    "+ 调用模型时传入模型类型的参数进行模型选择调用\n",
    "\n",
    "+ 通过调用不同模型输出不同结合区的靶基因  \n",
    "\n",
    "+ 加入参数trf type，访问特征中的trf_type  \n",
    "\n",
    "+ 加入更多的特征提高模型的预测精度\n",
    "\n",
    "+ 获取trf序列与其对应**ID的列表**，提供输入ID的预测\n",
    "\n",
    "+ 输入预测参数（需要预测那一部分）"
   ]
  },
  {
   "cell_type": "code",
   "execution_count": 31,
   "metadata": {},
   "outputs": [],
   "source": [
    "# 加载数据预处理\n",
    "#upload data and package\n",
    "import pandas as pd\n",
    "import mglearn\n",
    "import numpy as np\n",
    "import matplotlib.pyplot as plt\n",
    "from sklearn.model_selection import train_test_split\n",
    "\n",
    "trf_train_data_3 = pd.read_csv(\"E:\\\\Windows-SSD\\\\Program Files (x86)\\\\Common Files\\\\Designer\\\\tRF_prediction\\\\data\\\\new_train_data_3.csv\")\n",
    "trf_test_data_3 = pd.read_csv(\"E:\\\\Windows-SSD\\\\Program Files (x86)\\\\Common Files\\\\Designer\\\\tRF_prediction\\\\data\\\\new_test_data_3.csv\")\n",
    "\n",
    "trf_train_data_5 = pd.read_csv(\"E:\\\\Windows-SSD\\\\Program Files (x86)\\\\Common Files\\\\Designer\\\\tRF_prediction\\\\data\\\\new_train_data_5.csv\")\n",
    "trf_test_data_5 = pd.read_csv(\"E:\\\\Windows-SSD\\\\Program Files (x86)\\\\Common Files\\\\Designer\\\\tRF_prediction\\\\data\\\\new_test_data_5.csv\")\n",
    "\n",
    "trf_train_data_cds = pd.read_csv(\"E:\\\\Windows-SSD\\\\Program Files (x86)\\\\Common Files\\\\Designer\\\\tRF_prediction\\\\data\\\\new_train_data_cds.csv\")\n",
    "trf_test_data_cds = pd.read_csv(\"E:\\\\Windows-SSD\\\\Program Files (x86)\\\\Common Files\\\\Designer\\\\tRF_prediction\\\\data\\\\new_test_data_cds.csv\")"
   ]
  },
  {
   "cell_type": "code",
   "execution_count": 32,
   "metadata": {},
   "outputs": [],
   "source": [
    "#设置训练集和测试集数据\n",
    "train_data_3 = trf_train_data_3[trf_train_data_3.columns[9:16]]\n",
    "train_data_3 = np.array(train_data_3).tolist()\n",
    "\n",
    "test_data_3 = trf_test_data_3[trf_test_data_3.columns[9:16]]\n",
    "test_data_3 = np.array(test_data_3).tolist()\n",
    "\n",
    "\n",
    "train_data_5 = trf_train_data_5[trf_train_data_5.columns[9:16]]\n",
    "train_data_5 = np.array(train_data_5).tolist()\n",
    "\n",
    "test_data_5 = trf_test_data_5[trf_test_data_5.columns[9:16]]\n",
    "test_data_5 = np.array(test_data_5).tolist()\n",
    "\n",
    "\n",
    "train_data_cds = trf_train_data_cds[trf_train_data_cds.columns[9:16]]\n",
    "train_data_cds = np.array(train_data_cds).tolist()\n",
    "\n",
    "test_data_cds = trf_test_data_cds[trf_test_data_cds.columns[9:16]]\n",
    "test_data_cds = np.array(test_data_cds).tolist()"
   ]
  },
  {
   "cell_type": "code",
   "execution_count": 33,
   "metadata": {},
   "outputs": [],
   "source": [
    "#设置标签数据\n",
    "train_data_label = np.array(trf_train_data_3).tolist()\n",
    "train_data_label = [i[16] for i in train_data_label]\n",
    "\n",
    "test_data_label = np.array(trf_test_data_3).tolist()\n",
    "test_data_label = [i[16] for i in test_data_label]"
   ]
  },
  {
   "cell_type": "code",
   "execution_count": 34,
   "metadata": {},
   "outputs": [],
   "source": [
    "X_train_3 = train_data_3\n",
    "X_test_3 = test_data_3\n",
    "\n",
    "X_train_5 = train_data_5\n",
    "X_test_5 = test_data_5\n",
    "\n",
    "X_train_cds = train_data_cds\n",
    "X_test_cds = test_data_cds\n",
    "\n",
    "y_train = train_data_label\n",
    "y_test = test_data_label"
   ]
  },
  {
   "cell_type": "code",
   "execution_count": 35,
   "metadata": {},
   "outputs": [
    {
     "name": "stdout",
     "output_type": "stream",
     "text": [
      "logreg_3 Training set score: 0.713\n",
      "logreg_3 Test set score: 0.739\n",
      "logreg_3 The feature weight: [[ 0.01373819  0.2736169   0.0309369  -0.27337108 -0.04949721  0.02923627\n",
      "   0.68122989]]\n",
      "logreg_5 Training set score: 0.698\n",
      "logreg_5 Test set score: 0.775\n",
      "logreg_5 The feature weight: [[-0.25868377  0.32767925 -0.02572717 -0.03151193 -0.00780255  0.00227678\n",
      "  -0.01451713]]\n",
      "logreg_cds Training set score: 0.547\n",
      "logreg_cds Test set score: 0.511\n",
      "logreg_cds The feature weight: [[-0.62012659  0.01198933 -0.00725674  0.03545903  0.00441907 -0.00519419\n",
      "  -0.02059396]]\n"
     ]
    }
   ],
   "source": [
    "#使用逻辑回归模型(0.1)\n",
    "from sklearn.linear_model import LogisticRegression\n",
    "from sklearn.model_selection import cross_val_score\n",
    "from sklearn.model_selection import KFold\n",
    "kfold = KFold(n_splits=5,shuffle=True, random_state=0)\n",
    "#正则化系数C = 1时(可调节参数C)\n",
    "logreg_3 = LogisticRegression(C = 1000,solver = \"lbfgs\",random_state = 10).fit(X_train_3, y_train)\n",
    "logreg_5 = LogisticRegression(C = 1000,solver = \"lbfgs\",random_state = 10).fit(X_train_5, y_train)\n",
    "logreg_cds = LogisticRegression(C = 1000,solver = \"lbfgs\",random_state = 10).fit(X_train_cds, y_train)\n",
    "\n",
    "\n",
    "print(\"logreg_3 Training set score: {:.3f}\".format(logreg_3.score(X_train_3, y_train)))\n",
    "print(\"logreg_3 Test set score: {:.3f}\".format(logreg_3.score(X_test_3, y_test)))\n",
    "print(\"logreg_3 The feature weight: {}\".format(logreg_3.coef_))\n",
    "\n",
    "print(\"logreg_5 Training set score: {:.3f}\".format(logreg_5.score(X_train_5, y_train)))\n",
    "print(\"logreg_5 Test set score: {:.3f}\".format(logreg_5.score(X_test_5, y_test)))\n",
    "print(\"logreg_5 The feature weight: {}\".format(logreg_5.coef_))\n",
    "\n",
    "\n",
    "print(\"logreg_cds Training set score: {:.3f}\".format(logreg_cds.score(X_train_cds, y_train)))\n",
    "print(\"logreg_cds Test set score: {:.3f}\".format(logreg_cds.score(X_test_cds, y_test)))\n",
    "print(\"logreg_cds The feature weight: {}\".format(logreg_cds.coef_))"
   ]
  },
  {
   "cell_type": "code",
   "execution_count": 36,
   "metadata": {},
   "outputs": [
    {
     "name": "stdout",
     "output_type": "stream",
     "text": [
      "AUC for Random Forest: 0.820\n",
      "AUC for Random Forest: 0.725\n",
      "AUC for Random Forest: 0.513\n"
     ]
    }
   ],
   "source": [
    "from sklearn.metrics import roc_auc_score\n",
    "logreg3_auc = roc_auc_score(y_test, logreg_3.predict_proba(X_test_3)[:,1])\n",
    "print(\"AUC for Random Forest: {:.3f}\".format(logreg3_auc))\n",
    "logreg5_auc = roc_auc_score(y_test, logreg_5.predict_proba(X_test_5)[:,1])\n",
    "print(\"AUC for Random Forest: {:.3f}\".format(logreg5_auc))\n",
    "logregcds_auc = roc_auc_score(y_test, logreg_cds.predict_proba(X_test_cds)[:,1])\n",
    "print(\"AUC for Random Forest: {:.3f}\".format(logregcds_auc))"
   ]
  },
  {
   "cell_type": "code",
   "execution_count": 38,
   "metadata": {},
   "outputs": [
    {
     "name": "stdout",
     "output_type": "stream",
     "text": [
      "AUC for Logreg Model: 0.820\n"
     ]
    },
    {
     "data": {
      "text/plain": [
       "<matplotlib.legend.Legend at 0x1a806b82f70>"
      ]
     },
     "execution_count": 38,
     "metadata": {},
     "output_type": "execute_result"
    },
    {
     "data": {
      "image/png": "[encoded data removed]",
      "text/plain": [
       "<Figure size 432x288 with 1 Axes>"
      ]
     },
     "metadata": {
      "needs_background": "light"
     },
     "output_type": "display_data"
    }
   ],
   "source": [
    "from sklearn.metrics import roc_auc_score\n",
    "logreg3_auc = roc_auc_score(y_test, logreg_3.predict_proba(X_test_3)[:,1])\n",
    "print(\"AUC for Logreg Model: {:.3f}\".format(logreg3_auc))\n",
    "from sklearn.metrics import roc_curve\n",
    "fpr, tpr, thresholds = roc_curve(y_test, logreg_3.predict_proba(X_test_3)[:,1])\n",
    "\n",
    "plt.plot(fpr, tpr, label=\"ROC Curve\")\n",
    "plt.xlabel(\"FPR\")\n",
    "plt.ylabel(\"TPR (recall)\")\n",
    "# find threshold closest to zero\n",
    "close_zero = np.argmin(np.abs(thresholds))\n",
    "plt.plot(fpr[close_zero], tpr[close_zero], 'o', markersize=10,\n",
    "         label=\"threshold zero\", fillstyle=\"none\", c='k', mew=2)\n",
    "plt.legend(loc=4)"
   ]
  },
  {
   "cell_type": "code",
   "execution_count": 39,
   "metadata": {},
   "outputs": [
    {
     "name": "stdout",
     "output_type": "stream",
     "text": [
      "AUC for Random Forest: 0.725\n"
     ]
    },
    {
     "data": {
      "text/plain": [
       "<matplotlib.legend.Legend at 0x1a805529d90>"
      ]
     },
     "execution_count": 39,
     "metadata": {},
     "output_type": "execute_result"
    },
    {
     "data": {
      "image/png": "[encoded data removed]",
      "text/plain": [
       "<Figure size 432x288 with 1 Axes>"
      ]
     },
     "metadata": {
      "needs_background": "light"
     },
     "output_type": "display_data"
    }
   ],
   "source": [
    "logreg5_auc = roc_auc_score(y_test, logreg_5.predict_proba(X_test_5)[:,1])\n",
    "print(\"AUC for Random Forest: {:.3f}\".format(logreg5_auc))\n",
    "fpr, tpr, thresholds = roc_curve(y_test, logreg_5.predict_proba(X_test_5)[:,1])\n",
    "\n",
    "plt.plot(fpr, tpr, label=\"ROC Curve\")\n",
    "plt.xlabel(\"FPR\")\n",
    "plt.ylabel(\"TPR (recall)\")\n",
    "# find threshold closest to zero\n",
    "close_zero = np.argmin(np.abs(thresholds))\n",
    "plt.plot(fpr[close_zero], tpr[close_zero], 'o', markersize=10,\n",
    "         label=\"threshold zero\", fillstyle=\"none\", c='k', mew=2)\n",
    "plt.legend(loc=4)"
   ]
  },
  {
   "cell_type": "code",
   "execution_count": 40,
   "metadata": {},
   "outputs": [
    {
     "name": "stdout",
     "output_type": "stream",
     "text": [
      "AUC for Random Forest: 0.513\n"
     ]
    },
    {
     "data": {
      "text/plain": [
       "<matplotlib.legend.Legend at 0x1a8132a3340>"
      ]
     },
     "execution_count": 40,
     "metadata": {},
     "output_type": "execute_result"
    },
    {
     "data": {
      "image/png": "[encoded data removed]",
      "text/plain": [
       "<Figure size 432x288 with 1 Axes>"
      ]
     },
     "metadata": {
      "needs_background": "light"
     },
     "output_type": "display_data"
    }
   ],
   "source": [
    "logregcds_auc = roc_auc_score(y_test, logreg_cds.predict_proba(X_test_cds)[:,1])\n",
    "print(\"AUC for Random Forest: {:.3f}\".format(logregcds_auc))\n",
    "fpr, tpr, thresholds = roc_curve(y_test, logreg_cds.predict_proba(X_test_cds)[:,1])\n",
    "\n",
    "plt.plot(fpr, tpr, label=\"ROC Curve\")\n",
    "plt.xlabel(\"FPR\")\n",
    "plt.ylabel(\"TPR (recall)\")\n",
    "# find threshold closest to zero\n",
    "close_zero = np.argmin(np.abs(thresholds))\n",
    "plt.plot(fpr[close_zero], tpr[close_zero], 'o', markersize=10,\n",
    "         label=\"threshold zero\", fillstyle=\"none\", c='k', mew=2)\n",
    "plt.legend(loc=4)"
   ]
  },
  {
   "cell_type": "code",
   "execution_count": 41,
   "metadata": {},
   "outputs": [
    {
     "data": {
      "text/plain": [
       "['E:\\\\Windows-SSD\\\\Program Files (x86)\\\\Common Files\\\\Designer\\\\tRF_prediction\\\\data\\\\logreg_cds.pkl']"
      ]
     },
     "execution_count": 41,
     "metadata": {},
     "output_type": "execute_result"
    }
   ],
   "source": [
    "#保存模型\n",
    "import joblib\n",
    "joblib.dump(logreg_3,\"E:\\\\Windows-SSD\\\\Program Files (x86)\\\\Common Files\\\\Designer\\\\tRF_prediction\\\\data\\\\logreg_3.pkl\")\n",
    "\n",
    "joblib.dump(logreg_5,\"E:\\\\Windows-SSD\\\\Program Files (x86)\\\\Common Files\\\\Designer\\\\tRF_prediction\\\\data\\\\logreg_5.pkl\")\n",
    "\n",
    "joblib.dump(logreg_cds,\"E:\\\\Windows-SSD\\\\Program Files (x86)\\\\Common Files\\\\Designer\\\\tRF_prediction\\\\data\\\\logreg_cds.pkl\")\n"
   ]
  },
  {
   "cell_type": "code",
   "execution_count": 39,
   "metadata": {},
   "outputs": [],
   "source": [
    "#读取基因列表\n",
    "gene_list = pd.read_csv(\"E:\\\\Windows-SSD\\\\Program Files (x86)\\\\Common Files\\\\Designer\\\\tRF_prediction\\\\data\\\\unique_gene.csv\")\n",
    "gene_list = gene_list.iloc[:,1:5]"
   ]
  },
  {
   "cell_type": "code",
   "execution_count": 40,
   "metadata": {},
   "outputs": [],
   "source": [
    "#定义特征计算函数\n",
    "\n",
    "#1.创建一个trf序列的列表\n",
    "def create(trf,gene_list):\n",
    "    seq = [trf]\n",
    "    trf_seq = pd.DataFrame(seq*len(gene_list))\n",
    "    trf_seq.columns = [\"trf_seq\"]\n",
    "    return trf_seq\n",
    "\n",
    "#计算AU含量\n",
    "def AU_contant(trf_feature):\n",
    "    AU_list = pd.DataFrame([0]*len(trf_feature))\n",
    "    AU_list.columns = [\"AU_contant\"]\n",
    "    for i in range(len(trf_feature)):\n",
    "        upscore = 0\n",
    "        downscore = 0\n",
    "        for j in range(30):\n",
    "            if(trf_feature.iloc[i,2][j] == \"A\" or trf_feature.iloc[i,2][j] == \"T\"):\n",
    "                upscore += 1/(j+1)\n",
    "            if(trf_feature.iloc[i,3][j] == \"A\" or trf_feature.iloc[i,3][j] == \"T\"):\n",
    "                downscore += 1/(j+1)\n",
    "        AU_list.iloc[i,0] = (upscore + downscore)/2\n",
    "    trf_feature = pd.concat([trf_feature,AU_list],axis = 1)\n",
    "    return trf_feature\n",
    "\n",
    "#看该位点是否匹配\n",
    "def ispaired(nt):\n",
    "    if nt == \"A\":\n",
    "        return \"T\"\n",
    "    if nt == \"T\":\n",
    "        return \"A\"\n",
    "    if nt == \"G\":\n",
    "        return \"C\"\n",
    "    if nt == \"C\":\n",
    "        return \"G\"\n",
    "    else:\n",
    "        return \"\"\n",
    "\n",
    "# 确定结合区位置\n",
    "def bind_loc(trf_feature,index):\n",
    "    start_loc = pd.DataFrame([0]*len(trf_feature))\n",
    "    start_loc.columns = [\"start_loc\"]\n",
    "    end_loc = pd.DataFrame([0]*len(trf_feature))\n",
    "    end_loc.columns = [\"end_loc\"]\n",
    "    for i in range(len(trf_feature)):\n",
    "        seq = trf_feature.iloc[i,0][0]\n",
    "        for j in range(len(trf_feature.iloc[i,index+1])):\n",
    "            if ispaired(seq) == trf_feature.iloc[i,index+1][j]:\n",
    "                start_loc.iloc[i,0] = j\n",
    "                end_loc.iloc[i,0] = j + len(trf_feature.iloc[i,0])\n",
    "                break\n",
    "    trf_feature = pd.concat([trf_feature,start_loc],axis = 1)\n",
    "    trf_feature = pd.concat([trf_feature,end_loc],axis = 1)\n",
    "    return trf_feature\n",
    "\n",
    "\n",
    "#统计结合位点数    \n",
    "def bind_num(trf_feature,index):\n",
    "    count_paired = pd.DataFrame([0]*len(trf_feature))\n",
    "    count_paired.columns = [\"count_paired\"]\n",
    "    for i in range(len(trf_feature)):\n",
    "        count_num = 0\n",
    "        for j in range(min(len(trf_feature.iloc[i,0]),len(trf_feature.iloc[i,index+1])-trf_feature.iloc[i,6])):\n",
    "            if ispaired(trf_feature.iloc[i,0][j]) == trf_feature.iloc[i,index+1][trf_feature.iloc[i,6]+j]:\n",
    "                count_num += 1\n",
    "        count_paired.iloc[i,0] = count_num\n",
    "    trf_feature = pd.concat([trf_feature,count_paired],axis = 1)\n",
    "    return trf_feature\n",
    "\n",
    "#计算字符串中最长的连续字符数\n",
    "def maxDup(strs):\n",
    "    n=len(strs)\n",
    "    maxlen=1\n",
    "    length=1\n",
    "    maxstr=[]\n",
    "    for i in range(n-1): \n",
    "        if strs[i]==strs[i+1]:\n",
    "            length+=1\n",
    "            maxstr.append(strs[i+1])\n",
    "            if length>maxlen:\n",
    "                maxlen=length\n",
    "        else:\n",
    "            length=1\n",
    "    return maxlen\n",
    "\n",
    "\n",
    "#计算结合区的长度\n",
    "def bind_length(trf_feature,index):\n",
    "    max_length = pd.DataFrame([0]*len(trf_feature))\n",
    "    max_length.columns = [\"max_length\"]\n",
    "    pos_longest = pd.DataFrame([0]*len(trf_feature))\n",
    "    pos_longest.columns = [\"pos_longest\"]\n",
    "    for i in range(len(trf_feature)):\n",
    "        seq = \"\"\n",
    "        for j in range(min(len(trf_feature.iloc[i,0]),len(trf_feature.iloc[i,index+1])-trf_feature.iloc[i,6])):\n",
    "            if ispaired(trf_feature.iloc[i,0][j]) == trf_feature.iloc[i,index+1][trf_feature.iloc[i,6]+j]:\n",
    "                seq += \"T\"\n",
    "            else:\n",
    "                seq += str(j)\n",
    "        max_length.iloc[i,0] = maxDup(seq)\n",
    "        pos_longest.iloc[i,0] = len(seq)\n",
    "    trf_feature = pd.concat([trf_feature,max_length],axis = 1)\n",
    "    trf_feature = pd.concat([trf_feature,pos_longest],axis = 1)\n",
    "    return trf_feature\n",
    "        \n",
    "#计算3'区的结合位点数\n",
    "def three_prime(trf_feature):\n",
    "    three_prime = pd.DataFrame([0]*len(trf_feature))\n",
    "    three_prime.columns = [\"three_prime\"]\n",
    "    for i in range(len(trf_feature)):\n",
    "        count_num = 0\n",
    "        for j in range(min(7,len(trf_feature.iloc[i,2])-trf_feature.iloc[i,6])):\n",
    "            if ispaired(trf_feature.iloc[i,0][j]) == trf_feature.iloc[i,2][trf_feature.iloc[i,6]+j]:\n",
    "                count_num += 1\n",
    "        three_prime.iloc[i,0] = count_num\n",
    "    trf_feature = pd.concat([trf_feature,three_prime],axis = 1)\n",
    "    return trf_feature\n",
    "    \n",
    "#输出trf特征列表   \n",
    "def feature_calculation(trf_seq,trf_list,index):\n",
    "    trf = create(trf_seq,trf_list)\n",
    "    trf_feature = pd.concat([trf,trf_list],axis = 1)\n",
    "    trf_feature = AU_contant(trf_feature)\n",
    "    trf_feature = bind_loc(trf_feature,index)\n",
    "    trf_feature = bind_num(trf_feature,index)\n",
    "    trf_feature = bind_length(trf_feature,index)\n",
    "    trf_feature = three_prime(trf_feature)\n",
    "    return trf_feature"
   ]
  },
  {
   "cell_type": "code",
   "execution_count": 15,
   "metadata": {},
   "outputs": [
    {
     "name": "stdout",
     "output_type": "stream",
     "text": [
      "please input your trf sequence:ATCCAGGTGCCCCCTCCA\n",
      "please input the type of bind region:3\n"
     ]
    }
   ],
   "source": [
    "#计算特征(先输入要预测的trf序列，)\n",
    "trf_sequence = input(\"please input your trf sequence:\")\n",
    "index = int(input(\"please input the type of bind region:\"))\n",
    "trf_feature = feature_calculation(trf_sequence, gene_list,index)"
   ]
  },
  {
   "cell_type": "code",
   "execution_count": 16,
   "metadata": {},
   "outputs": [],
   "source": [
    "#获取测试集数据\n",
    "test_data = trf_feature.iloc[:,5:12]\n",
    "test_data = np.array(test_data).tolist()"
   ]
  },
  {
   "cell_type": "code",
   "execution_count": 17,
   "metadata": {},
   "outputs": [],
   "source": [
    "#调用模型\n",
    "import joblib\n",
    "logreg_3 = joblib.load(\"E:\\\\Windows-SSD\\\\Program Files (x86)\\\\Common Files\\\\Designer\\\\tRF_prediction\\\\data\\\\logreg_3.pkl\")\n",
    "logreg_5 = joblib.load(\"E:\\\\Windows-SSD\\\\Program Files (x86)\\\\Common Files\\\\Designer\\\\tRF_prediction\\\\data\\\\logreg_5.pkl\")\n",
    "logreg_cds = joblib.load(\"E:\\\\Windows-SSD\\\\Program Files (x86)\\\\Common Files\\\\Designer\\\\tRF_prediction\\\\data\\\\logreg_cds.pkl\")\n",
    "#输入测试集数据进行预测，并输出靶标基因名\n",
    "if index == 1:\n",
    "    result_label = logreg_3.predict(test_data)\n",
    "if index == 2:\n",
    "    result_label = logreg_5.predict(test_data)\n",
    "if index == 3:\n",
    "    result_label = logreg_cds.predict(test_data)\n",
    "\n",
    "target_gene = []\n",
    "for i in range(len(result_label)):\n",
    "    if result_label[i] == 1:\n",
    "        #print(trf_feature.iloc[i,1])\n",
    "        target_gene.append(trf_feature.iloc[i,1])"
   ]
  },
  {
   "cell_type": "code",
   "execution_count": 18,
   "metadata": {},
   "outputs": [],
   "source": [
    "#将靶标基因写入csv文件中\n",
    "target = pd.DataFrame(columns = [\"gene\"],data = target_gene)\n",
    "target.to_csv(\"E:\\\\Windows-SSD\\\\Program Files (x86)\\\\Common Files\\\\Designer\\\\tRF_prediction\\\\data\\\\target_gene3.csv\")"
   ]
  },
  {
   "cell_type": "code",
   "execution_count": null,
   "metadata": {},
   "outputs": [],
   "source": []
  },
  {
   "cell_type": "markdown",
   "metadata": {},
   "source": [
    "# 测试代码部分"
   ]
  },
  {
   "cell_type": "code",
   "execution_count": 20,
   "metadata": {},
   "outputs": [],
   "source": [
    "# 加载数据预处理\n",
    "#upload data and package\n",
    "import pandas as pd\n",
    "import mglearn\n",
    "import numpy as np\n",
    "import matplotlib.pyplot as plt\n",
    "from sklearn.model_selection import train_test_split\n",
    "\n",
    "trf_train_data_5 = pd.read_csv(\"E:\\\\Windows-SSD\\\\Program Files (x86)\\\\Common Files\\\\Designer\\\\tRF_prediction\\\\data\\\\new_train_data_5.csv\")\n",
    "trf_test_data_5 = pd.read_csv(\"E:\\\\Windows-SSD\\\\Program Files (x86)\\\\Common Files\\\\Designer\\\\tRF_prediction\\\\data\\\\new_test_data_5.csv\")\n",
    "\n",
    "#设置训练集和测试集数据\n",
    "train_data_5 = trf_train_data_5[trf_train_data_5.columns[9:16]]\n",
    "train_data_5 = np.array(train_data_5).tolist()\n",
    "\n",
    "test_data_5 = trf_test_data_5[trf_test_data_5.columns[9:16]]\n",
    "test_data_5 = np.array(test_data_5).tolist()"
   ]
  },
  {
   "cell_type": "code",
   "execution_count": 21,
   "metadata": {},
   "outputs": [],
   "source": [
    "#设置标签数据\n",
    "train_data_label = np.array(trf_train_data_5).tolist()\n",
    "train_data_label = [i[16] for i in train_data_label]\n",
    "\n",
    "test_data_label = np.array(trf_test_data_5).tolist()\n",
    "test_data_label = [i[16] for i in test_data_label]\n",
    "\n",
    "X_train_5 = train_data_5\n",
    "X_test_5 = test_data_5\n",
    "y_train = train_data_label\n",
    "y_test = test_data_label"
   ]
  },
  {
   "cell_type": "code",
   "execution_count": 22,
   "metadata": {},
   "outputs": [
    {
     "name": "stdout",
     "output_type": "stream",
     "text": [
      "logreg_3 Training set score: 0.696\n",
      "logreg_3 Test set score: 0.772\n",
      "logreg_3 The feature weight: [[-0.13115749  0.31611789 -0.02282006 -0.03218836 -0.0012191   0.00144906\n",
      "  -0.00941328]]\n"
     ]
    }
   ],
   "source": [
    "#使用逻辑回归模型(0.1)\n",
    "from sklearn.linear_model import LogisticRegression\n",
    "from sklearn.model_selection import cross_val_score\n",
    "from sklearn.model_selection import KFold\n",
    "kfold = KFold(n_splits=5,shuffle=True, random_state=0)\n",
    "#正则化系数C = 1时(可调节参数C)\n",
    "logreg_5 = LogisticRegression(C = 0.001,solver = \"lbfgs\",random_state = 100).fit(X_train_5, y_train)\n",
    "\n",
    "print(\"logreg_3 Training set score: {:.3f}\".format(logreg_5.score(X_train_5, y_train)))\n",
    "print(\"logreg_3 Test set score: {:.3f}\".format(logreg_5.score(X_test_5, y_test)))\n",
    "print(\"logreg_3 The feature weight: {}\".format(logreg_5.coef_))"
   ]
  },
  {
   "cell_type": "markdown",
   "metadata": {},
   "source": [
    "# 多层感知机模型的表现结果"
   ]
  },
  {
   "cell_type": "code",
   "execution_count": 42,
   "metadata": {},
   "outputs": [
    {
     "name": "stderr",
     "output_type": "stream",
     "text": [
      "D:\\yjy\\lib\\site-packages\\sklearn\\neural_network\\_multilayer_perceptron.py:582: ConvergenceWarning: Stochastic Optimizer: Maximum iterations (200) reached and the optimization hasn't converged yet.\n",
      "  warnings.warn(\n"
     ]
    },
    {
     "name": "stdout",
     "output_type": "stream",
     "text": [
      "Accuracy on training set: 0.83\n",
      "Accuracy on test set: 0.83\n"
     ]
    }
   ],
   "source": [
    "#多层感知机\n",
    "from sklearn.neural_network import MLPClassifier\n",
    "mlp = MLPClassifier(random_state=42)\n",
    "mlp.fit(X_train_3, y_train)\n",
    "\n",
    "print(\"Accuracy on training set: {:.2f}\".format(mlp.score(X_train_3, y_train)))\n",
    "print(\"Accuracy on test set: {:.2f}\".format(mlp.score(X_test_3, y_test)))"
   ]
  },
  {
   "cell_type": "code",
   "execution_count": 43,
   "metadata": {},
   "outputs": [
    {
     "name": "stdout",
     "output_type": "stream",
     "text": [
      "AUC for Random Forest: 0.923\n"
     ]
    },
    {
     "data": {
      "text/plain": [
       "<matplotlib.legend.Legend at 0x1a8734ca220>"
      ]
     },
     "execution_count": 43,
     "metadata": {},
     "output_type": "execute_result"
    },
    {
     "data": {
      "image/png": "[encoded data removed]",
      "text/plain": [
       "<Figure size 432x288 with 1 Axes>"
      ]
     },
     "metadata": {
      "needs_background": "light"
     },
     "output_type": "display_data"
    }
   ],
   "source": [
    "from sklearn.metrics import roc_auc_score\n",
    "mlp_auc = roc_auc_score(y_test, mlp.predict_proba(X_test_3)[:,1])\n",
    "print(\"AUC for Random Forest: {:.3f}\".format(mlp_auc))\n",
    "\n",
    "from sklearn.metrics import roc_curve\n",
    "fpr, tpr, thresholds = roc_curve(y_test, mlp.predict_proba(X_test_3)[:,1])\n",
    "\n",
    "plt.plot(fpr, tpr, label=\"ROC Curve\")\n",
    "plt.xlabel(\"FPR\")\n",
    "plt.ylabel(\"TPR (recall)\")\n",
    "# find threshold closest to zero\n",
    "close_zero = np.argmin(np.abs(thresholds))\n",
    "plt.plot(fpr[close_zero], tpr[close_zero], 'o', markersize=10,\n",
    "         label=\"threshold zero\", fillstyle=\"none\", c='k', mew=2)\n",
    "plt.legend(loc=4)"
   ]
  },
  {
   "cell_type": "code",
   "execution_count": 23,
   "metadata": {},
   "outputs": [
    {
     "name": "stdout",
     "output_type": "stream",
     "text": [
      "AUC for Random Forest: 0.727\n"
     ]
    },
    {
     "data": {
      "text/plain": [
       "<matplotlib.legend.Legend at 0x1a806b95af0>"
      ]
     },
     "execution_count": 23,
     "metadata": {},
     "output_type": "execute_result"
    },
    {
     "data": {
      "image/png": "[encoded data removed]",
      "text/plain": [
       "<Figure size 432x288 with 1 Axes>"
      ]
     },
     "metadata": {
      "needs_background": "light"
     },
     "output_type": "display_data"
    }
   ],
   "source": [
    "from sklearn.metrics import roc_auc_score\n",
    "logreg5_auc = roc_auc_score(y_test, logreg_5.predict_proba(X_test_5)[:,1])\n",
    "print(\"AUC for Random Forest: {:.3f}\".format(logreg5_auc))\n",
    "\n",
    "from sklearn.metrics import roc_curve\n",
    "fpr, tpr, thresholds = roc_curve(y_test, logreg_5.predict_proba(X_test_5)[:,1])\n",
    "\n",
    "plt.plot(fpr, tpr, label=\"ROC Curve\")\n",
    "plt.xlabel(\"FPR\")\n",
    "plt.ylabel(\"TPR (recall)\")\n",
    "# find threshold closest to zero\n",
    "close_zero = np.argmin(np.abs(thresholds))\n",
    "plt.plot(fpr[close_zero], tpr[close_zero], 'o', markersize=10,\n",
    "         label=\"threshold zero\", fillstyle=\"none\", c='k', mew=2)\n",
    "plt.legend(loc=4)"
   ]
  },
  {
   "cell_type": "code",
   "execution_count": null,
   "metadata": {},
   "outputs": [],
   "source": []
  },
  {
   "cell_type": "markdown",
   "metadata": {},
   "source": [
    "# 评价指标\n",
    "\n",
    "+ a:真阳性 b:假阳性 c:假阴性 d:真阴性\n",
    "\n",
    "+ PPV：阳性预测值 a/(a+b)\n",
    "\n"
   ]
  },
  {
   "cell_type": "code",
   "execution_count": null,
   "metadata": {},
   "outputs": [],
   "source": [
    "#输出模型测试数据的指标数据\n"
   ]
  },
  {
   "cell_type": "code",
   "execution_count": 2,
   "metadata": {},
   "outputs": [],
   "source": [
    "import joblib\n",
    "logreg_3 = joblib.load(\"E:\\\\Windows-SSD\\\\Program Files (x86)\\\\Common Files\\\\Designer\\\\tRF_prediction\\\\data\\\\logreg_3.pkl\")\n",
    "logreg_5 = joblib.load(\"E:\\\\Windows-SSD\\\\Program Files (x86)\\\\Common Files\\\\Designer\\\\tRF_prediction\\\\data\\\\logreg_5.pkl\")\n",
    "logreg_cds = joblib.load(\"E:\\\\Windows-SSD\\\\Program Files (x86)\\\\Common Files\\\\Designer\\\\tRF_prediction\\\\data\\\\logreg_cds.pkl\")"
   ]
  },
  {
   "cell_type": "code",
   "execution_count": 6,
   "metadata": {},
   "outputs": [
    {
     "name": "stdout",
     "output_type": "stream",
     "text": [
      "The 3'model feature weight: [[-0.27364661  0.00758203 -0.00074106  0.00289397  0.01080048 -0.00191381\n",
      "  -0.03828901]]\n"
     ]
    }
   ],
   "source": [
    "print(\"The 3'model feature weight: {}\".format(logreg_3.coef_))"
   ]
  },
  {
   "cell_type": "code",
   "execution_count": 7,
   "metadata": {},
   "outputs": [
    {
     "name": "stdout",
     "output_type": "stream",
     "text": [
      "The 5' model feature weight: [[-0.25724275  0.01541082 -0.006221    0.02890959 -0.02306304 -0.00137002\n",
      "  -0.01695497]]\n"
     ]
    }
   ],
   "source": [
    "print(\"The 5' model feature weight: {}\".format(logreg_5.coef_))"
   ]
  },
  {
   "cell_type": "code",
   "execution_count": 8,
   "metadata": {},
   "outputs": [
    {
     "name": "stdout",
     "output_type": "stream",
     "text": [
      "The cds model feature weight: [[-0.27744316  0.01470373 -0.00667913  0.02300122  0.00409262 -0.00332068\n",
      "  -0.00563413]]\n"
     ]
    }
   ],
   "source": [
    "print(\"The cds model feature weight: {}\".format(logreg_cds.coef_))"
   ]
  },
  {
   "cell_type": "markdown",
   "metadata": {},
   "source": [
    "# 特征计算\n",
    "\n",
    "+ 7mer-m1 seed:计算trf序列的seed和其互补的seed序列，看gene序列中是否具有该互补seed序列\n",
    "\n",
    "+ binding energy:\n",
    "\n"
   ]
  },
  {
   "cell_type": "code",
   "execution_count": null,
   "metadata": {},
   "outputs": [],
   "source": []
  },
  {
   "cell_type": "code",
   "execution_count": null,
   "metadata": {},
   "outputs": [],
   "source": []
  },
  {
   "cell_type": "code",
   "execution_count": null,
   "metadata": {},
   "outputs": [],
   "source": []
  },
  {
   "cell_type": "markdown",
   "metadata": {},
   "source": [
    "# 湿实验验证数据部分\n",
    "\n",
    "## 1.湿实验的trf序列数据以及预测出的结果（模型靶基因/湿实验靶基因）\n",
    "\n",
    "+ 1.ACCCCACTCCTGGTACCA\n",
    "\n",
    "+ 2.TCAAATCTCGGTGGAACCTCCA(**494/1131**)\n",
    "\n",
    "+ 3.ACCCCACTCCTGGTACCA\n",
    "\n",
    "+ 4.GTCTCTGTGGCGCAATGGAC(**113/1784**)\n",
    "\n",
    "+ 5.GCATTGGTGGTTCAGTGGTAGAATTCTT(**1/113**)\n",
    "\n",
    "\n",
    "\n",
    "## 2.问题\n",
    "\n",
    "+ 为什么会有这么多靶基因，几千个（logFC = 2的截断标准下）\n",
    "\n",
    "+ 有的序列数据中的基因ID号不能转换成symbol号，无法进行预测"
   ]
  },
  {
   "cell_type": "code",
   "execution_count": 41,
   "metadata": {},
   "outputs": [
    {
     "name": "stdout",
     "output_type": "stream",
     "text": [
      "please input your trf sequence:ACCCCACTCCTGGTACCA\n",
      "please input the type of bind region:1\n"
     ]
    }
   ],
   "source": [
    "#计算特征(先输入要预测的trf序列，)\n",
    "trf_sequence = input(\"please input your trf sequence:\")\n",
    "index = int(input(\"please input the type of bind region:\"))\n",
    "trf_feature1 = feature_calculation(trf_sequence, gene_list,index)"
   ]
  },
  {
   "cell_type": "code",
   "execution_count": 42,
   "metadata": {},
   "outputs": [
    {
     "name": "stdout",
     "output_type": "stream",
     "text": [
      "please input your trf sequence:TCAAATCTCGGTGGAACCTCCA\n",
      "please input the type of bind region:1\n"
     ]
    }
   ],
   "source": [
    "#计算特征(先输入要预测的trf序列，)\n",
    "trf_sequence = input(\"please input your trf sequence:\")\n",
    "index = int(input(\"please input the type of bind region:\"))\n",
    "trf_feature2 = feature_calculation(trf_sequence, gene_list,index)"
   ]
  },
  {
   "cell_type": "code",
   "execution_count": 43,
   "metadata": {},
   "outputs": [
    {
     "name": "stdout",
     "output_type": "stream",
     "text": [
      "please input your trf sequence:ACCCCACTCCTGGTACCA\n",
      "please input the type of bind region:1\n"
     ]
    }
   ],
   "source": [
    "#计算特征(先输入要预测的trf序列，)\n",
    "trf_sequence = input(\"please input your trf sequence:\")\n",
    "index = int(input(\"please input the type of bind region:\"))\n",
    "trf_feature3 = feature_calculation(trf_sequence, gene_list,index)"
   ]
  },
  {
   "cell_type": "code",
   "execution_count": 44,
   "metadata": {},
   "outputs": [
    {
     "name": "stdout",
     "output_type": "stream",
     "text": [
      "please input your trf sequence:GTCTCTGTGGCGCAATGGAC\n",
      "please input the type of bind region:1\n"
     ]
    }
   ],
   "source": [
    "#计算特征(先输入要预测的trf序列，)\n",
    "trf_sequence = input(\"please input your trf sequence:\")\n",
    "index = int(input(\"please input the type of bind region:\"))\n",
    "trf_feature4 = feature_calculation(trf_sequence, gene_list,index)"
   ]
  },
  {
   "cell_type": "code",
   "execution_count": 46,
   "metadata": {},
   "outputs": [
    {
     "name": "stdout",
     "output_type": "stream",
     "text": [
      "please input your trf sequence:GCATTGGTGGTTCAGTGGTAGAATTCTT\n",
      "please input the type of bind region:1\n"
     ]
    }
   ],
   "source": [
    "# 计算特征(先输入要预测的trf序列，)\n",
    "trf_sequence = input(\"please input your trf sequence:\")\n",
    "index = int(input(\"please input the type of bind region:\"))\n",
    "trf_feature5 = feature_calculation(trf_sequence, gene_list,index)"
   ]
  },
  {
   "cell_type": "code",
   "execution_count": 47,
   "metadata": {},
   "outputs": [],
   "source": [
    "#获取测试集数据\n",
    "test_data1 = trf_feature1.iloc[:,5:12]\n",
    "test_data1 = np.array(test_data1).tolist()\n",
    "\n",
    "#获取测试集数据\n",
    "test_data2 = trf_feature2.iloc[:,5:12]\n",
    "test_data2 = np.array(test_data2).tolist()\n",
    "\n",
    "\n",
    "#获取测试集数据\n",
    "test_data3 = trf_feature3.iloc[:,5:12]\n",
    "test_data3 = np.array(test_data3).tolist()\n",
    "\n",
    "\n",
    "#获取测试集数据\n",
    "test_data4 = trf_feature4.iloc[:,5:12]\n",
    "test_data4 = np.array(test_data4).tolist()\n",
    "\n",
    "#获取测试集数据\n",
    "test_data5 = trf_feature5.iloc[:,5:12]\n",
    "test_data5 = np.array(test_data5).tolist()"
   ]
  },
  {
   "cell_type": "code",
   "execution_count": 48,
   "metadata": {},
   "outputs": [],
   "source": [
    "#调用模型\n",
    "import joblib\n",
    "logreg_3 = joblib.load(\"E:\\\\Windows-SSD\\\\Program Files (x86)\\\\Common Files\\\\Designer\\\\tRF_prediction\\\\data\\\\logreg_3.pkl\")\n",
    "logreg_5 = joblib.load(\"E:\\\\Windows-SSD\\\\Program Files (x86)\\\\Common Files\\\\Designer\\\\tRF_prediction\\\\data\\\\logreg_5.pkl\")\n",
    "logreg_cds = joblib.load(\"E:\\\\Windows-SSD\\\\Program Files (x86)\\\\Common Files\\\\Designer\\\\tRF_prediction\\\\data\\\\logreg_cds.pkl\")\n",
    "#输入测试集数据进行预测，并输出靶标基因名\n",
    "if index == 1:\n",
    "    result_label1 = logreg_3.predict(test_data1)\n",
    "if index == 2:\n",
    "    result_label1 = logreg_5.predict(test_data1)\n",
    "if index == 3:\n",
    "    result_label1 = logreg_cds.predict(test_data1)\n",
    "\n",
    "target_gene1 = []\n",
    "for i in range(len(result_label1)):\n",
    "    if result_label1[i] == 1:\n",
    "        #print(trf_feature.iloc[i,1])\n",
    "        target_gene1.append(trf_feature1.iloc[i,1])\n",
    "        \n",
    "        \n",
    "if index == 1:\n",
    "    result_label2 = logreg_3.predict(test_data2)\n",
    "if index == 2:\n",
    "    result_label2 = logreg_5.predict(test_data2)\n",
    "if index == 3:\n",
    "    result_label2 = logreg_cds.predict(test_data2)\n",
    "\n",
    "target_gene2 = []\n",
    "for i in range(len(result_label2)):\n",
    "    if result_label2[i] == 1:\n",
    "        #print(trf_feature.iloc[i,1])\n",
    "        target_gene2.append(trf_feature2.iloc[i,1])\n",
    "        \n",
    "        \n",
    "        \n",
    "if index == 1:\n",
    "    result_label3 = logreg_3.predict(test_data3)\n",
    "if index == 2:\n",
    "    result_label3 = logreg_5.predict(test_data3)\n",
    "if index == 3:\n",
    "    result_label3 = logreg_cds.predict(test_data3)\n",
    "\n",
    "target_gene3 = []\n",
    "for i in range(len(result_label3)):\n",
    "    if result_label3[i] == 1:\n",
    "        #print(trf_feature.iloc[i,1])\n",
    "        target_gene3.append(trf_feature3.iloc[i,1])\n",
    "        \n",
    "        \n",
    "if index == 1:\n",
    "    result_label4 = logreg_3.predict(test_data4)\n",
    "if index == 2:\n",
    "    result_label4 = logreg_5.predict(test_data4)\n",
    "if index == 3:\n",
    "    result_label4 = logreg_cds.predict(test_data4)\n",
    "\n",
    "target_gene4 = []\n",
    "for i in range(len(result_label4)):\n",
    "    if result_label4[i] == 1:\n",
    "        #print(trf_feature.iloc[i,1])\n",
    "        target_gene4.append(trf_feature4.iloc[i,1])\n",
    "        \n",
    "        \n",
    "if index == 1:\n",
    "    result_label5 = logreg_3.predict(test_data5)\n",
    "if index == 2:\n",
    "    result_label5 = logreg_5.predict(test_data5)\n",
    "if index == 3:\n",
    "    result_label5 = logreg_cds.predict(test_data5)\n",
    "\n",
    "target_gene5 = []\n",
    "for i in range(len(result_label5)):\n",
    "    if result_label5[i] == 1:\n",
    "        #print(trf_feature.iloc[i,1])\n",
    "        target_gene5.append(trf_feature5.iloc[i,1])"
   ]
  },
  {
   "cell_type": "code",
   "execution_count": 49,
   "metadata": {},
   "outputs": [],
   "source": [
    "#将靶标基因写入csv文件中\n",
    "target1 = pd.DataFrame(columns = [\"gene\"],data = target_gene1)\n",
    "target1.to_csv(\"E:\\\\Windows-SSD\\\\Program Files (x86)\\\\Common Files\\\\Designer\\\\tRF_prediction\\\\data\\\\target1.csv\")\n",
    "\n",
    "#将靶标基因写入csv文件中\n",
    "target2 = pd.DataFrame(columns = [\"gene\"],data = target_gene2)\n",
    "target2.to_csv(\"E:\\\\Windows-SSD\\\\Program Files (x86)\\\\Common Files\\\\Designer\\\\tRF_prediction\\\\data\\\\target2.csv\")\n",
    "\n",
    "\n",
    "#将靶标基因写入csv文件中\n",
    "target3 = pd.DataFrame(columns = [\"gene\"],data = target_gene3)\n",
    "target3.to_csv(\"E:\\\\Windows-SSD\\\\Program Files (x86)\\\\Common Files\\\\Designer\\\\tRF_prediction\\\\data\\\\target3.csv\")\n",
    "\n",
    "\n",
    "#将靶标基因写入csv文件中\n",
    "target4 = pd.DataFrame(columns = [\"gene\"],data = target_gene4)\n",
    "target4.to_csv(\"E:\\\\Windows-SSD\\\\Program Files (x86)\\\\Common Files\\\\Designer\\\\tRF_prediction\\\\data\\\\target4.csv\")\n",
    "\n",
    "\n",
    "#将靶标基因写入csv文件中\n",
    "target5 = pd.DataFrame(columns = [\"gene\"],data = target_gene5)\n",
    "target5.to_csv(\"E:\\\\Windows-SSD\\\\Program Files (x86)\\\\Common Files\\\\Designer\\\\tRF_prediction\\\\data\\\\target5.csv\")"
   ]
  },
  {
   "cell_type": "code",
   "execution_count": null,
   "metadata": {},
   "outputs": [],
   "source": []
  }
 ],
 "metadata": {
  "kernelspec": {
   "display_name": "Python 3",
   "language": "python",
   "name": "python3"
  },
  "language_info": {
   "codemirror_mode": {
    "name": "ipython",
    "version": 3
   },
   "file_extension": ".py",
   "mimetype": "text/x-python",
   "name": "python",
   "nbconvert_exporter": "python",
   "pygments_lexer": "ipython3",
   "version": "3.8.5"
  }
 },
 "nbformat": 4,
 "nbformat_minor": 4
}
