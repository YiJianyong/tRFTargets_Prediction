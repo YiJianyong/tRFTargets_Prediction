{
 "cells": [
  {
   "cell_type": "markdown",
   "metadata": {},
   "source": [
    "预测模型"
   ]
  },
  {
   "cell_type": "code",
   "execution_count": 1,
   "metadata": {},
   "outputs": [],
   "source": [
    "# 加载数据预处理\n",
    "#upload data and package\n",
    "import pandas as pd\n",
    "import mglearn\n",
    "import numpy as np\n",
    "import matplotlib.pyplot as plt\n",
    "from sklearn.model_selection import train_test_split\n",
    "\n",
    "trf_train_data = pd.read_csv(\"E:\\\\Windows-SSD\\\\Program Files (x86)\\\\Common Files\\\\Designer\\\\tRF_prediction\\\\data\\\\train_data.csv\")\n",
    "trf_test_data = pd.read_csv(\"E:\\\\Windows-SSD\\\\Program Files (x86)\\\\Common Files\\\\Designer\\\\tRF_prediction\\\\data\\\\test_data.csv\")\n",
    "\n"
   ]
  },
  {
   "cell_type": "code",
   "execution_count": 2,
   "metadata": {},
   "outputs": [
    {
     "data": {
      "text/html": [
       "<div>\n",
       "<style scoped>\n",
       "    .dataframe tbody tr th:only-of-type {\n",
       "        vertical-align: middle;\n",
       "    }\n",
       "\n",
       "    .dataframe tbody tr th {\n",
       "        vertical-align: top;\n",
       "    }\n",
       "\n",
       "    .dataframe thead th {\n",
       "        text-align: right;\n",
       "    }\n",
       "</style>\n",
       "<table border=\"1\" class=\"dataframe\">\n",
       "  <thead>\n",
       "    <tr style=\"text-align: right;\">\n",
       "      <th></th>\n",
       "      <th>Unnamed: 0</th>\n",
       "      <th>trf_seq</th>\n",
       "      <th>gene</th>\n",
       "      <th>seed</th>\n",
       "      <th>comp_seed</th>\n",
       "      <th>trf_type</th>\n",
       "      <th>utr3</th>\n",
       "      <th>utr5</th>\n",
       "      <th>cds</th>\n",
       "      <th>AU_content</th>\n",
       "      <th>start_loc</th>\n",
       "      <th>end_loc</th>\n",
       "      <th>count_paired</th>\n",
       "      <th>max_length</th>\n",
       "      <th>pos_longest</th>\n",
       "      <th>three_prime</th>\n",
       "      <th>label</th>\n",
       "    </tr>\n",
       "  </thead>\n",
       "  <tbody>\n",
       "    <tr>\n",
       "      <th>0</th>\n",
       "      <td>25385</td>\n",
       "      <td>TCCCGCACCGGCCACCA</td>\n",
       "      <td>TRA2B</td>\n",
       "      <td>TCCCGCA</td>\n",
       "      <td>AGGGCGT</td>\n",
       "      <td>3</td>\n",
       "      <td>AGCATGAAGACTTTCTGAAACCTGCCCTAGAGCTGGGATATTGTTT...</td>\n",
       "      <td>ACATCCGGTAGAGTTAGAGCCCGTGCGGAGGCGGTGCGGAGCATTT...</td>\n",
       "      <td>ATGAGCGACAGCGGCGAGCAGAACTACGGCGAGCGGGAATCCCGTT...</td>\n",
       "      <td>1.629525</td>\n",
       "      <td>1</td>\n",
       "      <td>18</td>\n",
       "      <td>6</td>\n",
       "      <td>2</td>\n",
       "      <td>2</td>\n",
       "      <td>3</td>\n",
       "      <td>1</td>\n",
       "    </tr>\n",
       "    <tr>\n",
       "      <th>1</th>\n",
       "      <td>25998</td>\n",
       "      <td>ACCCCGTCCGTGCCTCCA</td>\n",
       "      <td>TRA2B</td>\n",
       "      <td>ACCCCGT</td>\n",
       "      <td>TGGGGCA</td>\n",
       "      <td>3</td>\n",
       "      <td>AGCATGAAGACTTTCTGAAACCTGCCCTAGAGCTGGGATATTGTTT...</td>\n",
       "      <td>ACATCCGGTAGAGTTAGAGCCCGTGCGGAGGCGGTGCGGAGCATTT...</td>\n",
       "      <td>ATGAGCGACAGCGGCGAGCAGAACTACGGCGAGCGGGAATCCCGTT...</td>\n",
       "      <td>1.629525</td>\n",
       "      <td>5</td>\n",
       "      <td>23</td>\n",
       "      <td>5</td>\n",
       "      <td>2</td>\n",
       "      <td>2</td>\n",
       "      <td>3</td>\n",
       "      <td>1</td>\n",
       "    </tr>\n",
       "    <tr>\n",
       "      <th>2</th>\n",
       "      <td>33510</td>\n",
       "      <td>TCCCTGGTGGTCTAGTGGTTAGGA</td>\n",
       "      <td>TRA2B</td>\n",
       "      <td>TCCCTGG</td>\n",
       "      <td>AGGGACC</td>\n",
       "      <td>5</td>\n",
       "      <td>AGCATGAAGACTTTCTGAAACCTGCCCTAGAGCTGGGATATTGTTT...</td>\n",
       "      <td>ACATCCGGTAGAGTTAGAGCCCGTGCGGAGGCGGTGCGGAGCATTT...</td>\n",
       "      <td>ATGAGCGACAGCGGCGAGCAGAACTACGGCGAGCGGGAATCCCGTT...</td>\n",
       "      <td>1.629525</td>\n",
       "      <td>1</td>\n",
       "      <td>25</td>\n",
       "      <td>8</td>\n",
       "      <td>2</td>\n",
       "      <td>2</td>\n",
       "      <td>2</td>\n",
       "      <td>1</td>\n",
       "    </tr>\n",
       "    <tr>\n",
       "      <th>3</th>\n",
       "      <td>35052</td>\n",
       "      <td>TCCCTGGTCTAGTGG</td>\n",
       "      <td>TRA2B</td>\n",
       "      <td>TCCCTGG</td>\n",
       "      <td>AGGGACC</td>\n",
       "      <td>5</td>\n",
       "      <td>AGCATGAAGACTTTCTGAAACCTGCCCTAGAGCTGGGATATTGTTT...</td>\n",
       "      <td>ACATCCGGTAGAGTTAGAGCCCGTGCGGAGGCGGTGCGGAGCATTT...</td>\n",
       "      <td>ATGAGCGACAGCGGCGAGCAGAACTACGGCGAGCGGGAATCCCGTT...</td>\n",
       "      <td>1.629525</td>\n",
       "      <td>1</td>\n",
       "      <td>16</td>\n",
       "      <td>6</td>\n",
       "      <td>3</td>\n",
       "      <td>10</td>\n",
       "      <td>2</td>\n",
       "      <td>1</td>\n",
       "    </tr>\n",
       "    <tr>\n",
       "      <th>4</th>\n",
       "      <td>37259</td>\n",
       "      <td>TCCCTGGTGGTCTAGTGGTTAGGATTCGGCGCT</td>\n",
       "      <td>TRA2B</td>\n",
       "      <td>TCCCTGG</td>\n",
       "      <td>AGGGACC</td>\n",
       "      <td>5</td>\n",
       "      <td>AGCATGAAGACTTTCTGAAACCTGCCCTAGAGCTGGGATATTGTTT...</td>\n",
       "      <td>ACATCCGGTAGAGTTAGAGCCCGTGCGGAGGCGGTGCGGAGCATTT...</td>\n",
       "      <td>ATGAGCGACAGCGGCGAGCAGAACTACGGCGAGCGGGAATCCCGTT...</td>\n",
       "      <td>1.629525</td>\n",
       "      <td>1</td>\n",
       "      <td>34</td>\n",
       "      <td>10</td>\n",
       "      <td>2</td>\n",
       "      <td>2</td>\n",
       "      <td>2</td>\n",
       "      <td>1</td>\n",
       "    </tr>\n",
       "    <tr>\n",
       "      <th>...</th>\n",
       "      <td>...</td>\n",
       "      <td>...</td>\n",
       "      <td>...</td>\n",
       "      <td>...</td>\n",
       "      <td>...</td>\n",
       "      <td>...</td>\n",
       "      <td>...</td>\n",
       "      <td>...</td>\n",
       "      <td>...</td>\n",
       "      <td>...</td>\n",
       "      <td>...</td>\n",
       "      <td>...</td>\n",
       "      <td>...</td>\n",
       "      <td>...</td>\n",
       "      <td>...</td>\n",
       "      <td>...</td>\n",
       "      <td>...</td>\n",
       "    </tr>\n",
       "    <tr>\n",
       "      <th>4025</th>\n",
       "      <td>175471</td>\n",
       "      <td>TTCCCCGACGGGGAGCCA</td>\n",
       "      <td>ANKRD18B</td>\n",
       "      <td>TTCCCCG</td>\n",
       "      <td>AAGGGGC</td>\n",
       "      <td>3</td>\n",
       "      <td>AATCCACTGGTAAGCCACATCTAATGAAGAGAATATTTAACCATAA...</td>\n",
       "      <td>GGGGGATCTCGAATTTGGAGCTGGGTGGGGGTGGAAAGGCCACGAG...</td>\n",
       "      <td>ATGAGGAAGCTCCTCAGTTTTGGGAGACGCCTGGGCCAGGCGCTCC...</td>\n",
       "      <td>1.411469</td>\n",
       "      <td>1</td>\n",
       "      <td>19</td>\n",
       "      <td>6</td>\n",
       "      <td>3</td>\n",
       "      <td>9</td>\n",
       "      <td>3</td>\n",
       "      <td>0</td>\n",
       "    </tr>\n",
       "    <tr>\n",
       "      <th>4026</th>\n",
       "      <td>333411</td>\n",
       "      <td>GCATGGGTGGTTCAGTGGTA</td>\n",
       "      <td>ANKRD2</td>\n",
       "      <td>GCATGGG</td>\n",
       "      <td>CGTACCC</td>\n",
       "      <td>5</td>\n",
       "      <td>ATGCGTGCCCCAGCCCAGCCAGCTACCCAGCCCCTCTCTGTGTGCA...</td>\n",
       "      <td>AACCAGTCCCAAGTGCTCAGGACAGAGGCTGGACGGGCTCCTTCCT...</td>\n",
       "      <td>ATGGCAAAGGCGCCCAGCTGGGCAGGGGTGGGTGCTCTGGCCTATA...</td>\n",
       "      <td>1.438085</td>\n",
       "      <td>4</td>\n",
       "      <td>24</td>\n",
       "      <td>7</td>\n",
       "      <td>3</td>\n",
       "      <td>3</td>\n",
       "      <td>6</td>\n",
       "      <td>0</td>\n",
       "    </tr>\n",
       "    <tr>\n",
       "      <th>4027</th>\n",
       "      <td>83611</td>\n",
       "      <td>ACCCCACTCCTGGTACCA</td>\n",
       "      <td>ANKRD20A1</td>\n",
       "      <td>ACCCCAC</td>\n",
       "      <td>TGGGGTG</td>\n",
       "      <td>3</td>\n",
       "      <td>ACATTTGGTTCTGGATACATGTTGAACTTAGTTGAATATAAAAATC...</td>\n",
       "      <td>CTCTTTCTCAGGCCGGGCTGGCTGCGCGCCTGCGATCCTGGGGCCG...</td>\n",
       "      <td>ATGAAGTTATTCGGCTTCGGGAGCCGCAGGGGCCAGACGGCCCAGG...</td>\n",
       "      <td>1.599558</td>\n",
       "      <td>4</td>\n",
       "      <td>22</td>\n",
       "      <td>6</td>\n",
       "      <td>3</td>\n",
       "      <td>6</td>\n",
       "      <td>4</td>\n",
       "      <td>0</td>\n",
       "    </tr>\n",
       "    <tr>\n",
       "      <th>4028</th>\n",
       "      <td>289061</td>\n",
       "      <td>TCCGGGTGCCCCCTCCA</td>\n",
       "      <td>ANKRD22</td>\n",
       "      <td>TCCGGGT</td>\n",
       "      <td>AGGCCCA</td>\n",
       "      <td>3</td>\n",
       "      <td>TCCTTGTGACCACACCGATGGAGATACAGAAAAAGTTAACGACTGG...</td>\n",
       "      <td>ACACATGACACCAGTGCCTTTGTTTCATTGGGCTGGGCTCTCTGGA...</td>\n",
       "      <td>ATGGGAATCCTATACTCTGAGCCCATCTGCCAAGCAGCCTATCAGA...</td>\n",
       "      <td>1.662905</td>\n",
       "      <td>9</td>\n",
       "      <td>26</td>\n",
       "      <td>9</td>\n",
       "      <td>4</td>\n",
       "      <td>15</td>\n",
       "      <td>2</td>\n",
       "      <td>0</td>\n",
       "    </tr>\n",
       "    <tr>\n",
       "      <th>4029</th>\n",
       "      <td>315941</td>\n",
       "      <td>ATCCCACCGCTGCTACCA</td>\n",
       "      <td>ANKRD23</td>\n",
       "      <td>ATCCCAC</td>\n",
       "      <td>TAGGGTG</td>\n",
       "      <td>3</td>\n",
       "      <td>CCGCAGCACCGCCCCCCGCCGCGCCTTTCGCACTGCCACCATTCCA...</td>\n",
       "      <td>ACTGGGGGGTGTGAGGAACAGGGGGGACC</td>\n",
       "      <td>ATGGACTTCATCAGCATTCAGCAGTTGGTAAGTGGAGAAAGAGTTG...</td>\n",
       "      <td>0.780516</td>\n",
       "      <td>26</td>\n",
       "      <td>44</td>\n",
       "      <td>5</td>\n",
       "      <td>1</td>\n",
       "      <td>1</td>\n",
       "      <td>2</td>\n",
       "      <td>0</td>\n",
       "    </tr>\n",
       "  </tbody>\n",
       "</table>\n",
       "<p>4030 rows × 17 columns</p>\n",
       "</div>"
      ],
      "text/plain": [
       "      Unnamed: 0                            trf_seq       gene     seed  \\\n",
       "0          25385                  TCCCGCACCGGCCACCA      TRA2B  TCCCGCA   \n",
       "1          25998                 ACCCCGTCCGTGCCTCCA      TRA2B  ACCCCGT   \n",
       "2          33510           TCCCTGGTGGTCTAGTGGTTAGGA      TRA2B  TCCCTGG   \n",
       "3          35052                    TCCCTGGTCTAGTGG      TRA2B  TCCCTGG   \n",
       "4          37259  TCCCTGGTGGTCTAGTGGTTAGGATTCGGCGCT      TRA2B  TCCCTGG   \n",
       "...          ...                                ...        ...      ...   \n",
       "4025      175471                 TTCCCCGACGGGGAGCCA   ANKRD18B  TTCCCCG   \n",
       "4026      333411               GCATGGGTGGTTCAGTGGTA     ANKRD2  GCATGGG   \n",
       "4027       83611                 ACCCCACTCCTGGTACCA  ANKRD20A1  ACCCCAC   \n",
       "4028      289061                  TCCGGGTGCCCCCTCCA    ANKRD22  TCCGGGT   \n",
       "4029      315941                 ATCCCACCGCTGCTACCA    ANKRD23  ATCCCAC   \n",
       "\n",
       "     comp_seed  trf_type                                               utr3  \\\n",
       "0      AGGGCGT         3  AGCATGAAGACTTTCTGAAACCTGCCCTAGAGCTGGGATATTGTTT...   \n",
       "1      TGGGGCA         3  AGCATGAAGACTTTCTGAAACCTGCCCTAGAGCTGGGATATTGTTT...   \n",
       "2      AGGGACC         5  AGCATGAAGACTTTCTGAAACCTGCCCTAGAGCTGGGATATTGTTT...   \n",
       "3      AGGGACC         5  AGCATGAAGACTTTCTGAAACCTGCCCTAGAGCTGGGATATTGTTT...   \n",
       "4      AGGGACC         5  AGCATGAAGACTTTCTGAAACCTGCCCTAGAGCTGGGATATTGTTT...   \n",
       "...        ...       ...                                                ...   \n",
       "4025   AAGGGGC         3  AATCCACTGGTAAGCCACATCTAATGAAGAGAATATTTAACCATAA...   \n",
       "4026   CGTACCC         5  ATGCGTGCCCCAGCCCAGCCAGCTACCCAGCCCCTCTCTGTGTGCA...   \n",
       "4027   TGGGGTG         3  ACATTTGGTTCTGGATACATGTTGAACTTAGTTGAATATAAAAATC...   \n",
       "4028   AGGCCCA         3  TCCTTGTGACCACACCGATGGAGATACAGAAAAAGTTAACGACTGG...   \n",
       "4029   TAGGGTG         3  CCGCAGCACCGCCCCCCGCCGCGCCTTTCGCACTGCCACCATTCCA...   \n",
       "\n",
       "                                                   utr5  \\\n",
       "0     ACATCCGGTAGAGTTAGAGCCCGTGCGGAGGCGGTGCGGAGCATTT...   \n",
       "1     ACATCCGGTAGAGTTAGAGCCCGTGCGGAGGCGGTGCGGAGCATTT...   \n",
       "2     ACATCCGGTAGAGTTAGAGCCCGTGCGGAGGCGGTGCGGAGCATTT...   \n",
       "3     ACATCCGGTAGAGTTAGAGCCCGTGCGGAGGCGGTGCGGAGCATTT...   \n",
       "4     ACATCCGGTAGAGTTAGAGCCCGTGCGGAGGCGGTGCGGAGCATTT...   \n",
       "...                                                 ...   \n",
       "4025  GGGGGATCTCGAATTTGGAGCTGGGTGGGGGTGGAAAGGCCACGAG...   \n",
       "4026  AACCAGTCCCAAGTGCTCAGGACAGAGGCTGGACGGGCTCCTTCCT...   \n",
       "4027  CTCTTTCTCAGGCCGGGCTGGCTGCGCGCCTGCGATCCTGGGGCCG...   \n",
       "4028  ACACATGACACCAGTGCCTTTGTTTCATTGGGCTGGGCTCTCTGGA...   \n",
       "4029                      ACTGGGGGGTGTGAGGAACAGGGGGGACC   \n",
       "\n",
       "                                                    cds  AU_content  \\\n",
       "0     ATGAGCGACAGCGGCGAGCAGAACTACGGCGAGCGGGAATCCCGTT...    1.629525   \n",
       "1     ATGAGCGACAGCGGCGAGCAGAACTACGGCGAGCGGGAATCCCGTT...    1.629525   \n",
       "2     ATGAGCGACAGCGGCGAGCAGAACTACGGCGAGCGGGAATCCCGTT...    1.629525   \n",
       "3     ATGAGCGACAGCGGCGAGCAGAACTACGGCGAGCGGGAATCCCGTT...    1.629525   \n",
       "4     ATGAGCGACAGCGGCGAGCAGAACTACGGCGAGCGGGAATCCCGTT...    1.629525   \n",
       "...                                                 ...         ...   \n",
       "4025  ATGAGGAAGCTCCTCAGTTTTGGGAGACGCCTGGGCCAGGCGCTCC...    1.411469   \n",
       "4026  ATGGCAAAGGCGCCCAGCTGGGCAGGGGTGGGTGCTCTGGCCTATA...    1.438085   \n",
       "4027  ATGAAGTTATTCGGCTTCGGGAGCCGCAGGGGCCAGACGGCCCAGG...    1.599558   \n",
       "4028  ATGGGAATCCTATACTCTGAGCCCATCTGCCAAGCAGCCTATCAGA...    1.662905   \n",
       "4029  ATGGACTTCATCAGCATTCAGCAGTTGGTAAGTGGAGAAAGAGTTG...    0.780516   \n",
       "\n",
       "      start_loc  end_loc  count_paired  max_length  pos_longest  three_prime  \\\n",
       "0             1       18             6           2            2            3   \n",
       "1             5       23             5           2            2            3   \n",
       "2             1       25             8           2            2            2   \n",
       "3             1       16             6           3           10            2   \n",
       "4             1       34            10           2            2            2   \n",
       "...         ...      ...           ...         ...          ...          ...   \n",
       "4025          1       19             6           3            9            3   \n",
       "4026          4       24             7           3            3            6   \n",
       "4027          4       22             6           3            6            4   \n",
       "4028          9       26             9           4           15            2   \n",
       "4029         26       44             5           1            1            2   \n",
       "\n",
       "      label  \n",
       "0         1  \n",
       "1         1  \n",
       "2         1  \n",
       "3         1  \n",
       "4         1  \n",
       "...     ...  \n",
       "4025      0  \n",
       "4026      0  \n",
       "4027      0  \n",
       "4028      0  \n",
       "4029      0  \n",
       "\n",
       "[4030 rows x 17 columns]"
      ]
     },
     "execution_count": 2,
     "metadata": {},
     "output_type": "execute_result"
    }
   ],
   "source": [
    "trf_test_data"
   ]
  },
  {
   "cell_type": "code",
   "execution_count": 2,
   "metadata": {},
   "outputs": [],
   "source": [
    "train_data = trf_train_data[trf_train_data.columns[9:16]]\n",
    "train_data = np.array(train_data).tolist()\n",
    "\n",
    "test_data = trf_test_data[trf_test_data.columns[9:16]]\n",
    "test_data = np.array(test_data).tolist()"
   ]
  },
  {
   "cell_type": "code",
   "execution_count": 3,
   "metadata": {},
   "outputs": [],
   "source": [
    "train_data_label = np.array(trf_train_data).tolist()\n",
    "train_data_label = [i[16] for i in train_data_label]\n",
    "\n",
    "test_data_label = np.array(trf_test_data).tolist()\n",
    "test_data_label = [i[16] for i in test_data_label]"
   ]
  },
  {
   "cell_type": "code",
   "execution_count": 4,
   "metadata": {},
   "outputs": [],
   "source": [
    "X_train = train_data\n",
    "X_test = test_data\n",
    "y_train = train_data_label\n",
    "y_test = test_data_label"
   ]
  },
  {
   "cell_type": "markdown",
   "metadata": {},
   "source": [
    "KNN模型"
   ]
  },
  {
   "cell_type": "code",
   "execution_count": 29,
   "metadata": {},
   "outputs": [
    {
     "name": "stdout",
     "output_type": "stream",
     "text": [
      "Training set score: 0.646\n",
      "Test set score: 0.511\n"
     ]
    }
   ],
   "source": [
    "from sklearn.neighbors import KNeighborsClassifier\n",
    "knn = KNeighborsClassifier(n_neighbors=9)\n",
    "#调用knn对象的fit方法进行模型训练，传入训练数据参数\n",
    "knn.fit(X_train, y_train)\n",
    "print(\"Training set score: {:.3f}\".format(knn.score(X_train, y_train)))\n",
    "print(\"Test set score: {:.3f}\".format(knn.score(X_test, y_test)))"
   ]
  },
  {
   "cell_type": "code",
   "execution_count": 30,
   "metadata": {},
   "outputs": [
    {
     "data": {
      "text/plain": [
       "<matplotlib.legend.Legend at 0x19982052580>"
      ]
     },
     "execution_count": 30,
     "metadata": {},
     "output_type": "execute_result"
    },
    {
     "data": {
      "image/png": "[encoded data removed]",
      "text/plain": [
       "<Figure size 432x288 with 1 Axes>"
      ]
     },
     "metadata": {
      "needs_background": "light"
     },
     "output_type": "display_data"
    }
   ],
   "source": [
    "from sklearn.metrics import roc_curve\n",
    "fpr, tpr, thresholds = roc_curve(y_test, knn.predict_proba(X_test)[:,1])\n",
    "\n",
    "plt.plot(fpr, tpr, label=\"ROC Curve\")\n",
    "plt.xlabel(\"FPR\")\n",
    "plt.ylabel(\"TPR (recall)\")\n",
    "# find threshold closest to zero\n",
    "close_zero = np.argmin(np.abs(thresholds))\n",
    "plt.plot(fpr[close_zero], tpr[close_zero], 'o', markersize=10,\n",
    "         label=\"threshold zero\", fillstyle=\"none\", c='k', mew=2)\n",
    "plt.legend(loc=4)"
   ]
  },
  {
   "cell_type": "code",
   "execution_count": 31,
   "metadata": {},
   "outputs": [
    {
     "name": "stdout",
     "output_type": "stream",
     "text": [
      "Training set score: 0.541\n",
      "Test set score: 0.538\n"
     ]
    }
   ],
   "source": [
    "#使用逻辑回归模型(0.1)\n",
    "from sklearn.linear_model import LogisticRegression\n",
    "from sklearn.model_selection import cross_val_score\n",
    "from sklearn.model_selection import KFold\n",
    "kfold = KFold(n_splits=5,shuffle=True, random_state=0)\n",
    "#正则化系数C = 1时(可调节参数C)\n",
    "logreg = LogisticRegression(C = 0.001).fit(X_train, y_train)\n",
    "\n",
    "\n",
    "print(\"Training set score: {:.3f}\".format(logreg.score(X_train, y_train)))\n",
    "print(\"Test set score: {:.3f}\".format(logreg.score(X_test, y_test)))"
   ]
  },
  {
   "cell_type": "markdown",
   "metadata": {},
   "source": [
    "决策树模型"
   ]
  },
  {
   "cell_type": "code",
   "execution_count": 32,
   "metadata": {},
   "outputs": [
    {
     "name": "stdout",
     "output_type": "stream",
     "text": [
      "Accuracy on training set: 0.547\n",
      "Accuracy on test set: 0.534\n"
     ]
    }
   ],
   "source": [
    "#决策树模型（0.1）\n",
    "from sklearn.tree import DecisionTreeClassifier\n",
    "\n",
    "tree = DecisionTreeClassifier(random_state=10,max_depth=5)\n",
    "tree.fit(X_train, y_train)\n",
    "print(\"Accuracy on training set: {:.3f}\".format(tree.score(X_train, y_train)))\n",
    "print(\"Accuracy on test set: {:.3f}\".format(tree.score(X_test, y_test)))"
   ]
  },
  {
   "cell_type": "markdown",
   "metadata": {},
   "source": [
    "多层感知机"
   ]
  },
  {
   "cell_type": "code",
   "execution_count": 33,
   "metadata": {},
   "outputs": [
    {
     "name": "stdout",
     "output_type": "stream",
     "text": [
      "Accuracy on training set: 0.53\n",
      "Accuracy on test set: 0.55\n"
     ]
    }
   ],
   "source": [
    "#多层感知机\n",
    "from sklearn.neural_network import MLPClassifier\n",
    "mlp = MLPClassifier(random_state=42)\n",
    "mlp.fit(X_train, y_train)\n",
    "\n",
    "print(\"Accuracy on training set: {:.2f}\".format(mlp.score(X_train, y_train)))\n",
    "print(\"Accuracy on test set: {:.2f}\".format(mlp.score(X_test, y_test)))"
   ]
  },
  {
   "cell_type": "code",
   "execution_count": 34,
   "metadata": {},
   "outputs": [
    {
     "name": "stdout",
     "output_type": "stream",
     "text": [
      "Confusion matrix:\n",
      "[[ 772 1265]\n",
      " [ 536 1457]]\n"
     ]
    }
   ],
   "source": [
    "from sklearn.metrics import confusion_matrix\n",
    "pred_mlp = mlp.predict(X_test)\n",
    "confusion = confusion_matrix(y_test, pred_mlp)\n",
    "print(\"Confusion matrix:\\n{}\".format(confusion))"
   ]
  },
  {
   "cell_type": "code",
   "execution_count": 37,
   "metadata": {},
   "outputs": [],
   "source": [
    "param_grid = {'C': [0.1],\n",
    "              'gamma': [0.01]}"
   ]
  },
  {
   "cell_type": "code",
   "execution_count": 38,
   "metadata": {},
   "outputs": [],
   "source": [
    "from sklearn.model_selection import GridSearchCV\n",
    "from sklearn.svm import SVC\n",
    "grid_search = GridSearchCV(SVC(), param_grid, cv=5,\n",
    "                          return_train_score=True)"
   ]
  },
  {
   "cell_type": "code",
   "execution_count": 39,
   "metadata": {},
   "outputs": [
    {
     "data": {
      "text/plain": [
       "GridSearchCV(cv=5, estimator=SVC(), param_grid={'C': [0.1], 'gamma': [0.01]},\n",
       "             return_train_score=True)"
      ]
     },
     "execution_count": 39,
     "metadata": {},
     "output_type": "execute_result"
    }
   ],
   "source": [
    "grid_search.fit(X_train,y_train)"
   ]
  },
  {
   "cell_type": "code",
   "execution_count": 40,
   "metadata": {},
   "outputs": [
    {
     "name": "stdout",
     "output_type": "stream",
     "text": [
      "Best parameters: {'C': 0.1, 'gamma': 0.01}\n",
      "Best cross-validation score: 0.52\n"
     ]
    }
   ],
   "source": [
    "print(\"Best parameters: {}\".format(grid_search.best_params_))\n",
    "print(\"Best cross-validation score: {:.2f}\".format(grid_search.best_score_))"
   ]
  },
  {
   "cell_type": "markdown",
   "metadata": {},
   "source": [
    "不同模型"
   ]
  },
  {
   "cell_type": "code",
   "execution_count": null,
   "metadata": {},
   "outputs": [],
   "source": []
  },
  {
   "cell_type": "code",
   "execution_count": null,
   "metadata": {},
   "outputs": [],
   "source": []
  },
  {
   "cell_type": "markdown",
   "metadata": {},
   "source": [
    "随机森林"
   ]
  },
  {
   "cell_type": "code",
   "execution_count": 44,
   "metadata": {},
   "outputs": [
    {
     "name": "stdout",
     "output_type": "stream",
     "text": [
      "Accuracy on training set: 0.93\n",
      "Accuracy on test set: 0.52\n"
     ]
    }
   ],
   "source": [
    "from sklearn.ensemble import RandomForestClassifier\n",
    "\n",
    "rf = RandomForestClassifier(n_estimators=5, random_state=10, max_features=3)\n",
    "rf.fit(X_train, y_train)\n",
    "\n",
    "print(\"Accuracy on training set: {:.2f}\".format(rf.score(X_train, y_train)))\n",
    "print(\"Accuracy on test set: {:.2f}\".format(rf.score(X_test, y_test)))"
   ]
  },
  {
   "cell_type": "code",
   "execution_count": 45,
   "metadata": {},
   "outputs": [
    {
     "name": "stdout",
     "output_type": "stream",
     "text": [
      "Confusion matrix:\n",
      "[[1213  824]\n",
      " [1115  878]]\n"
     ]
    }
   ],
   "source": [
    "from sklearn.metrics import confusion_matrix\n",
    "pred_rf = rf.predict(X_test)\n",
    "confusion = confusion_matrix(y_test, pred_rf)\n",
    "print(\"Confusion matrix:\\n{}\".format(confusion))"
   ]
  },
  {
   "cell_type": "code",
   "execution_count": 17,
   "metadata": {},
   "outputs": [
    {
     "data": {
      "text/plain": [
       "<matplotlib.legend.Legend at 0x199d5135220>"
      ]
     },
     "execution_count": 17,
     "metadata": {},
     "output_type": "execute_result"
    },
    {
     "data": {
      "image/png": "[encoded data removed]",
      "text/plain": [
       "<Figure size 432x288 with 1 Axes>"
      ]
     },
     "metadata": {
      "needs_background": "light"
     },
     "output_type": "display_data"
    }
   ],
   "source": [
    "from sklearn.metrics import roc_curve\n",
    "fpr, tpr, thresholds = roc_curve(y_test, rf.predict_proba(X_test)[:,1])\n",
    "\n",
    "plt.plot(fpr, tpr, label=\"ROC Curve\")\n",
    "plt.xlabel(\"FPR\")\n",
    "plt.ylabel(\"TPR (recall)\")\n",
    "# find threshold closest to zero\n",
    "close_zero = np.argmin(np.abs(thresholds))\n",
    "plt.plot(fpr[close_zero], tpr[close_zero], 'o', markersize=10,\n",
    "         label=\"threshold zero\", fillstyle=\"none\", c='k', mew=2)\n",
    "plt.legend(loc=4)"
   ]
  },
  {
   "cell_type": "markdown",
   "metadata": {},
   "source": [
    "弹性网络"
   ]
  },
  {
   "cell_type": "code",
   "execution_count": null,
   "metadata": {},
   "outputs": [],
   "source": [
    "from sklearn.model_selection import train_test_split\n",
    "X_train, X_test, y_train, y_test = train_test_split(\n",
    "    train_data, label_data, random_state=2)"
   ]
  },
  {
   "cell_type": "code",
   "execution_count": 24,
   "metadata": {},
   "outputs": [
    {
     "ename": "NameError",
     "evalue": "name 'r2_score' is not defined",
     "output_type": "error",
     "traceback": [
      "\u001b[1;31m---------------------------------------------------------------------------\u001b[0m",
      "\u001b[1;31mNameError\u001b[0m                                 Traceback (most recent call last)",
      "\u001b[1;32m<ipython-input-24-c8d8a3c2a643>\u001b[0m in \u001b[0;36m<module>\u001b[1;34m\u001b[0m\n\u001b[0;32m      9\u001b[0m \u001b[1;33m\u001b[0m\u001b[0m\n\u001b[0;32m     10\u001b[0m \u001b[0my_pred_enet\u001b[0m \u001b[1;33m=\u001b[0m \u001b[0menet\u001b[0m\u001b[1;33m.\u001b[0m\u001b[0mfit\u001b[0m\u001b[1;33m(\u001b[0m\u001b[0mX_train\u001b[0m\u001b[1;33m,\u001b[0m \u001b[0my_train\u001b[0m\u001b[1;33m)\u001b[0m\u001b[1;33m.\u001b[0m\u001b[0mpredict\u001b[0m\u001b[1;33m(\u001b[0m\u001b[0mX_test\u001b[0m\u001b[1;33m)\u001b[0m\u001b[1;33m\u001b[0m\u001b[1;33m\u001b[0m\u001b[0m\n\u001b[1;32m---> 11\u001b[1;33m \u001b[0mr2_score_enet\u001b[0m \u001b[1;33m=\u001b[0m \u001b[0mr2_score\u001b[0m\u001b[1;33m(\u001b[0m\u001b[0my_test\u001b[0m\u001b[1;33m,\u001b[0m \u001b[0my_pred_enet\u001b[0m\u001b[1;33m)\u001b[0m\u001b[1;33m\u001b[0m\u001b[1;33m\u001b[0m\u001b[0m\n\u001b[0m\u001b[0;32m     12\u001b[0m \u001b[0mprint\u001b[0m\u001b[1;33m(\u001b[0m\u001b[0menet\u001b[0m\u001b[1;33m)\u001b[0m\u001b[1;33m\u001b[0m\u001b[1;33m\u001b[0m\u001b[0m\n\u001b[0;32m     13\u001b[0m \u001b[0mprint\u001b[0m\u001b[1;33m(\u001b[0m\u001b[1;34m\"r^2 on test data : %f\"\u001b[0m \u001b[1;33m%\u001b[0m \u001b[0mr2_score_enet\u001b[0m\u001b[1;33m)\u001b[0m\u001b[1;33m\u001b[0m\u001b[1;33m\u001b[0m\u001b[0m\n",
      "\u001b[1;31mNameError\u001b[0m: name 'r2_score' is not defined"
     ]
    }
   ],
   "source": [
    "#弹性网络模型\n",
    "from sklearn.linear_model import ElasticNet\n",
    "#多折交叉验证\n",
    "from sklearn.model_selection import cross_validate\n",
    "# import dataset split function\n",
    "\n",
    "\n",
    "enet = ElasticNet(alpha=0.1, l1_ratio=0.7)\n",
    "\n",
    "y_pred_enet = enet.fit(X_train, y_train).predict(X_test)\n",
    "r2_score_enet = r2_score(y_test, y_pred_enet)\n",
    "print(enet)\n",
    "print(\"r^2 on test data : %f\" % r2_score_enet)"
   ]
  },
  {
   "cell_type": "code",
   "execution_count": null,
   "metadata": {},
   "outputs": [],
   "source": []
  },
  {
   "cell_type": "markdown",
   "metadata": {},
   "source": [
    "# 读取基因列表"
   ]
  },
  {
   "cell_type": "code",
   "execution_count": 13,
   "metadata": {},
   "outputs": [],
   "source": [
    "#读取基因列表\n",
    "gene_list = pd.read_csv(\"E:\\\\Windows-SSD\\\\Program Files (x86)\\\\Common Files\\\\Designer\\\\tRF_prediction\\\\data\\\\unique_gene.csv\")\n",
    "\n",
    "gene_list = gene_list.iloc[:,1:5]"
   ]
  },
  {
   "cell_type": "code",
   "execution_count": 14,
   "metadata": {},
   "outputs": [
    {
     "data": {
      "text/html": [
       "<div>\n",
       "<style scoped>\n",
       "    .dataframe tbody tr th:only-of-type {\n",
       "        vertical-align: middle;\n",
       "    }\n",
       "\n",
       "    .dataframe tbody tr th {\n",
       "        vertical-align: top;\n",
       "    }\n",
       "\n",
       "    .dataframe thead th {\n",
       "        text-align: right;\n",
       "    }\n",
       "</style>\n",
       "<table border=\"1\" class=\"dataframe\">\n",
       "  <thead>\n",
       "    <tr style=\"text-align: right;\">\n",
       "      <th></th>\n",
       "      <th>gene</th>\n",
       "      <th>utr3</th>\n",
       "      <th>utr5</th>\n",
       "      <th>cds</th>\n",
       "    </tr>\n",
       "  </thead>\n",
       "  <tbody>\n",
       "    <tr>\n",
       "      <th>0</th>\n",
       "      <td>A1BG</td>\n",
       "      <td>TGCAGCCGCGGGCCCAGGGTGCTGTTGGTGTCCTCAGAAGTGCCGG...</td>\n",
       "      <td>ATTGCTGCAGACGCTCACCCCAGACACTCACTGCACCGGAGTGAGC...</td>\n",
       "      <td>ATGTCCATGCTCGTGGTCTTTCTCTTGCTGTGGGGTGTCACCTGGG...</td>\n",
       "    </tr>\n",
       "    <tr>\n",
       "      <th>1</th>\n",
       "      <td>A1CF</td>\n",
       "      <td>AGATGCTTTTTTAAATTTAAGAATAAGACACACAAAACTCTATTAA...</td>\n",
       "      <td>TTTGATATGACGATTAGAGCATAACCCGAGTGACACGTTGAATTCG...</td>\n",
       "      <td>ATGGAATCAAATCACAAATCCGGGGATGGATTGAGCGGCACTCAGA...</td>\n",
       "    </tr>\n",
       "    <tr>\n",
       "      <th>2</th>\n",
       "      <td>A2M</td>\n",
       "      <td>AGACCACAAGGCTGAAAAGTGCTTTGCTGGAGTCCTGTTCTCAGAG...</td>\n",
       "      <td>GGGACCAGATGGATTGTAGGGAGTAGGGTACAATACAGTCTGTTCT...</td>\n",
       "      <td>ATGGGGAAGAACAAACTCCTTCATCCAAGTCTGGTTCTTCTCCTCT...</td>\n",
       "    </tr>\n",
       "    <tr>\n",
       "      <th>3</th>\n",
       "      <td>A2ML1</td>\n",
       "      <td>GGATAGGAGCTGGAAACTCAATTAGTCCTCTGTGACATTTACTGGA...</td>\n",
       "      <td>GACCCTGGAAAAATCTGTCTCACCCACAAAG</td>\n",
       "      <td>ATGTGGGCTCAGCTCCTTCTAGGAATGTTGGCCCTATCACCAGCCA...</td>\n",
       "    </tr>\n",
       "    <tr>\n",
       "      <th>4</th>\n",
       "      <td>A4GALT</td>\n",
       "      <td>GGGGCCCGCCAGGTCACCTCCCCAACCTGCTCCTGATGGGGCACTG...</td>\n",
       "      <td>AGATGGATTTGCAGCCGCTGCAAGTGTGTGGAAGGGCCGTGTTCGT...</td>\n",
       "      <td>ATGTCCAAGCCCCCCGACCTCCTGCTGCGGCTGCTCCGGGGCGCCC...</td>\n",
       "    </tr>\n",
       "    <tr>\n",
       "      <th>...</th>\n",
       "      <td>...</td>\n",
       "      <td>...</td>\n",
       "      <td>...</td>\n",
       "      <td>...</td>\n",
       "    </tr>\n",
       "    <tr>\n",
       "      <th>16601</th>\n",
       "      <td>ZYG11B</td>\n",
       "      <td>TAGCCATAAGTATTGGATAGTTGAATCACAGGAATCCTTTTTGTGA...</td>\n",
       "      <td>GGAGTCTGCGCTCTGGTTCGGGCTGCGGCTGCGGCTGCGGCTGCGG...</td>\n",
       "      <td>ATGCCCGAGGACCAGGCCGGCGCAGCCATGGAGGAGGCGTCTCCCT...</td>\n",
       "    </tr>\n",
       "    <tr>\n",
       "      <th>16602</th>\n",
       "      <td>ZYX</td>\n",
       "      <td>GTGAGGACAGGCCCTCTTCAGACCGCAGTCCATGCCCCATTGTGGA...</td>\n",
       "      <td>GCAGAGTCTGCGGACCCGGCGCCGAGGCGGCCACCCGAGACGCGGC...</td>\n",
       "      <td>ATGGCGGCCCCCCGCCCGTCTCCCGCGATCTCCGTTTCGGTCTCGG...</td>\n",
       "    </tr>\n",
       "    <tr>\n",
       "      <th>16603</th>\n",
       "      <td>ZZEF1</td>\n",
       "      <td>CCCTTGGTGGGGCGTGCATGGGACTAGTTCATCTGCCACAGGGATT...</td>\n",
       "      <td>AGGAAGCCGGAAGCCGCAGGGGCCGCCGTCGTCTCCTCCGCGTCCC...</td>\n",
       "      <td>ATGGGGAACGCTCCGAGTCACAGCAGTGAAGACGAAGCGGCAGCTG...</td>\n",
       "    </tr>\n",
       "    <tr>\n",
       "      <th>16604</th>\n",
       "      <td>ZZZ3</td>\n",
       "      <td>CATGGAAGAGAACATCATTTACTAGTCCTCTTCAACACATAGCAAT...</td>\n",
       "      <td>GTTGGCAGAGCAGTTGTCCTGGATGGCGGAGCCTTGGGTTCCGGGG...</td>\n",
       "      <td>ATGATAGATCTTTGGTTGTACAGTTATCAGAGACTATTACAGACGA...</td>\n",
       "    </tr>\n",
       "    <tr>\n",
       "      <th>16605</th>\n",
       "      <td>NaN</td>\n",
       "      <td>GGATGAACTTGTTCCATTATTTGAGAAAGCTGGACCTATATGGGAT...</td>\n",
       "      <td>ACAGCTCCACTCGCGCCGGACACAGGGAGCAGCGAGCACGCGTTTC...</td>\n",
       "      <td>ATGCCTGTGCCCTGGTTCTTGCTGTCCTTGGCACTGGGCCGAAGCC...</td>\n",
       "    </tr>\n",
       "  </tbody>\n",
       "</table>\n",
       "<p>16606 rows × 4 columns</p>\n",
       "</div>"
      ],
      "text/plain": [
       "         gene                                               utr3  \\\n",
       "0        A1BG  TGCAGCCGCGGGCCCAGGGTGCTGTTGGTGTCCTCAGAAGTGCCGG...   \n",
       "1        A1CF  AGATGCTTTTTTAAATTTAAGAATAAGACACACAAAACTCTATTAA...   \n",
       "2         A2M  AGACCACAAGGCTGAAAAGTGCTTTGCTGGAGTCCTGTTCTCAGAG...   \n",
       "3       A2ML1  GGATAGGAGCTGGAAACTCAATTAGTCCTCTGTGACATTTACTGGA...   \n",
       "4      A4GALT  GGGGCCCGCCAGGTCACCTCCCCAACCTGCTCCTGATGGGGCACTG...   \n",
       "...       ...                                                ...   \n",
       "16601  ZYG11B  TAGCCATAAGTATTGGATAGTTGAATCACAGGAATCCTTTTTGTGA...   \n",
       "16602     ZYX  GTGAGGACAGGCCCTCTTCAGACCGCAGTCCATGCCCCATTGTGGA...   \n",
       "16603   ZZEF1  CCCTTGGTGGGGCGTGCATGGGACTAGTTCATCTGCCACAGGGATT...   \n",
       "16604    ZZZ3  CATGGAAGAGAACATCATTTACTAGTCCTCTTCAACACATAGCAAT...   \n",
       "16605     NaN  GGATGAACTTGTTCCATTATTTGAGAAAGCTGGACCTATATGGGAT...   \n",
       "\n",
       "                                                    utr5  \\\n",
       "0      ATTGCTGCAGACGCTCACCCCAGACACTCACTGCACCGGAGTGAGC...   \n",
       "1      TTTGATATGACGATTAGAGCATAACCCGAGTGACACGTTGAATTCG...   \n",
       "2      GGGACCAGATGGATTGTAGGGAGTAGGGTACAATACAGTCTGTTCT...   \n",
       "3                        GACCCTGGAAAAATCTGTCTCACCCACAAAG   \n",
       "4      AGATGGATTTGCAGCCGCTGCAAGTGTGTGGAAGGGCCGTGTTCGT...   \n",
       "...                                                  ...   \n",
       "16601  GGAGTCTGCGCTCTGGTTCGGGCTGCGGCTGCGGCTGCGGCTGCGG...   \n",
       "16602  GCAGAGTCTGCGGACCCGGCGCCGAGGCGGCCACCCGAGACGCGGC...   \n",
       "16603  AGGAAGCCGGAAGCCGCAGGGGCCGCCGTCGTCTCCTCCGCGTCCC...   \n",
       "16604  GTTGGCAGAGCAGTTGTCCTGGATGGCGGAGCCTTGGGTTCCGGGG...   \n",
       "16605  ACAGCTCCACTCGCGCCGGACACAGGGAGCAGCGAGCACGCGTTTC...   \n",
       "\n",
       "                                                     cds  \n",
       "0      ATGTCCATGCTCGTGGTCTTTCTCTTGCTGTGGGGTGTCACCTGGG...  \n",
       "1      ATGGAATCAAATCACAAATCCGGGGATGGATTGAGCGGCACTCAGA...  \n",
       "2      ATGGGGAAGAACAAACTCCTTCATCCAAGTCTGGTTCTTCTCCTCT...  \n",
       "3      ATGTGGGCTCAGCTCCTTCTAGGAATGTTGGCCCTATCACCAGCCA...  \n",
       "4      ATGTCCAAGCCCCCCGACCTCCTGCTGCGGCTGCTCCGGGGCGCCC...  \n",
       "...                                                  ...  \n",
       "16601  ATGCCCGAGGACCAGGCCGGCGCAGCCATGGAGGAGGCGTCTCCCT...  \n",
       "16602  ATGGCGGCCCCCCGCCCGTCTCCCGCGATCTCCGTTTCGGTCTCGG...  \n",
       "16603  ATGGGGAACGCTCCGAGTCACAGCAGTGAAGACGAAGCGGCAGCTG...  \n",
       "16604  ATGATAGATCTTTGGTTGTACAGTTATCAGAGACTATTACAGACGA...  \n",
       "16605  ATGCCTGTGCCCTGGTTCTTGCTGTCCTTGGCACTGGGCCGAAGCC...  \n",
       "\n",
       "[16606 rows x 4 columns]"
      ]
     },
     "execution_count": 14,
     "metadata": {},
     "output_type": "execute_result"
    }
   ],
   "source": [
    "gene_list"
   ]
  },
  {
   "cell_type": "code",
   "execution_count": 72,
   "metadata": {},
   "outputs": [],
   "source": [
    "#定义特征计算函数\n",
    "\n",
    "def create(trf):\n",
    "    seq = [trf]\n",
    "    trf_seq = pd.DataFrame(seq*16606)\n",
    "    trf_seq.columns = [\"trf_seq\"]\n",
    "    return trf_seq\n",
    "\n",
    "def AU_contant(trf_feature):\n",
    "    AU_list = pd.DataFrame([0]*len(trf_feature))\n",
    "    AU_list.columns = [\"AU_contant\"]\n",
    "    for i in range(len(trf_feature)):\n",
    "        upscore = 0\n",
    "        downscore = 0\n",
    "        for j in range(30):\n",
    "            if(trf_feature.iloc[i,2][j] == \"A\" or trf_feature.iloc[i,2][j] == \"T\"):\n",
    "                upscore += 1/(j+1)\n",
    "            if(trf_feature.iloc[i,3][j] == \"A\" or trf_feature.iloc[i,3][j] == \"T\"):\n",
    "                downscore += 1/(j+1)\n",
    "        AU_list.iloc[i,0] = (upscore + downscore)/2\n",
    "    trf_feature = pd.concat([trf_feature,AU_list],axis = 1)\n",
    "    return trf_feature\n",
    "\n",
    "\n",
    "def ispaired(nt):\n",
    "    if nt == \"A\":\n",
    "        return \"T\"\n",
    "    if nt == \"T\":\n",
    "        return \"A\"\n",
    "    if nt == \"G\":\n",
    "        return \"C\"\n",
    "    if nt == \"C\":\n",
    "        return \"G\"\n",
    "    else:\n",
    "        return \"\"\n",
    "\n",
    "    \n",
    "def bind_loc(trf_feature):\n",
    "    start_loc = pd.DataFrame([0]*len(trf_feature))\n",
    "    start_loc.columns = [\"start_loc\"]\n",
    "    end_loc = pd.DataFrame([0]*len(trf_feature))\n",
    "    end_loc.columns = [\"end_loc\"]\n",
    "    for i in range(len(trf_feature)):\n",
    "        seq = trf_feature.iloc[i,0][0]\n",
    "        for j in range(len(trf_feature.iloc[i,2])):\n",
    "            if ispaired(seq) == trf_feature.iloc[i,2][j]:\n",
    "                start_loc.iloc[i,0] = j\n",
    "                end_loc.iloc[i,0] = j + len(trf_feature.iloc[i,0])\n",
    "                break\n",
    "    trf_feature = pd.concat([trf_feature,start_loc],axis = 1)\n",
    "    trf_feature = pd.concat([trf_feature,end_loc],axis = 1)\n",
    "    return trf_feature\n",
    "\n",
    "    \n",
    "def bind_num(trf_feature):\n",
    "    count_paired = pd.DataFrame([0]*len(trf_feature))\n",
    "    count_paired.columns = [\"count_paired\"]\n",
    "    for i in range(len(trf_feature)):\n",
    "        count_num = 0\n",
    "        for j in range(min(len(trf_feature.iloc[i,0]),len(trf_feature.iloc[i,2])-trf_feature.iloc[i,6])):\n",
    "            if ispaired(trf_feature.iloc[i,0][j]) == trf_feature.iloc[i,2][trf_feature.iloc[i,6]+j]:\n",
    "                count_num += 1\n",
    "        count_paired.iloc[i,0] = count_num\n",
    "    trf_feature = pd.concat([trf_feature,count_paired],axis = 1)\n",
    "    return trf_feature\n",
    "\n",
    "def maxDup(strs):\n",
    "    n=len(strs)\n",
    "    maxlen=1\n",
    "    length=1\n",
    "    maxstr=[]\n",
    "    for i in range(n-1): \n",
    "        if strs[i]==strs[i+1]:\n",
    "            length+=1\n",
    "            maxstr.append(strs[i+1])\n",
    "            if length>maxlen:\n",
    "                maxlen=length\n",
    "        else:\n",
    "            length=1\n",
    "    return maxlen\n",
    "\n",
    "\n",
    "def bind_length(trf_feature):\n",
    "    max_length = pd.DataFrame([0]*len(trf_feature))\n",
    "    max_length.columns = [\"max_length\"]\n",
    "    pos_longest = pd.DataFrame([0]*len(trf_feature))\n",
    "    pos_longest.columns = [\"pos_longest\"]\n",
    "    for i in range(len(trf_feature)):\n",
    "        seq = \"\"\n",
    "        for j in range(min(len(trf_feature.iloc[i,0]),len(trf_feature.iloc[i,2])-trf_feature.iloc[i,6])):\n",
    "            if ispaired(trf_feature.iloc[i,0][j]) == trf_feature.iloc[i,2][trf_feature.iloc[i,6]+j]:\n",
    "                seq += \"T\"\n",
    "            else:\n",
    "                seq += str(j)\n",
    "        max_length.iloc[i,0] = maxDup(seq)\n",
    "        pos_longest.iloc[i,0] = len(seq)\n",
    "    trf_feature = pd.concat([trf_feature,max_length],axis = 1)\n",
    "    trf_feature = pd.concat([trf_feature,pos_longest],axis = 1)\n",
    "    return trf_feature\n",
    "        \n",
    "\n",
    "def three_prime(trf_feature):\n",
    "    three_prime = pd.DataFrame([0]*len(trf_feature))\n",
    "    three_prime.columns = [\"three_prime\"]\n",
    "    for i in range(len(trf_feature)):\n",
    "        count_num = 0\n",
    "        for j in range(min(7,len(trf_feature.iloc[i,2])-trf_feature.iloc[i,6])):\n",
    "            if ispaired(trf_feature.iloc[i,0][j]) == trf_feature.iloc[i,2][trf_feature.iloc[i,6]+j]:\n",
    "                count_num += 1\n",
    "        three_prime.iloc[i,0] = count_num\n",
    "    trf_feature = pd.concat([trf_feature,three_prime],axis = 1)\n",
    "    return trf_feature\n",
    "    "
   ]
  },
  {
   "cell_type": "code",
   "execution_count": 56,
   "metadata": {},
   "outputs": [],
   "source": [
    "trf_list = create(\"ACTGGGTCACGTAGGCCCCTGACGTAG\")\n",
    "trf_feature = pd.concat([trf_list,gene_list],axis = 1)\n",
    "trf_feature = AU_contant(trf_feature)\n"
   ]
  },
  {
   "cell_type": "code",
   "execution_count": 57,
   "metadata": {},
   "outputs": [],
   "source": [
    "trf_feature = bind_loc(trf_feature)"
   ]
  },
  {
   "cell_type": "code",
   "execution_count": 65,
   "metadata": {},
   "outputs": [],
   "source": [
    "trf_feature = bind_num(trf_feature)"
   ]
  },
  {
   "cell_type": "code",
   "execution_count": 70,
   "metadata": {},
   "outputs": [],
   "source": [
    "trf_feature = bind_length(trf_feature)"
   ]
  },
  {
   "cell_type": "code",
   "execution_count": 73,
   "metadata": {},
   "outputs": [],
   "source": [
    "trf_feature = three_prime(trf_feature)"
   ]
  },
  {
   "cell_type": "code",
   "execution_count": 74,
   "metadata": {},
   "outputs": [
    {
     "data": {
      "text/html": [
       "<div>\n",
       "<style scoped>\n",
       "    .dataframe tbody tr th:only-of-type {\n",
       "        vertical-align: middle;\n",
       "    }\n",
       "\n",
       "    .dataframe tbody tr th {\n",
       "        vertical-align: top;\n",
       "    }\n",
       "\n",
       "    .dataframe thead th {\n",
       "        text-align: right;\n",
       "    }\n",
       "</style>\n",
       "<table border=\"1\" class=\"dataframe\">\n",
       "  <thead>\n",
       "    <tr style=\"text-align: right;\">\n",
       "      <th></th>\n",
       "      <th>trf_seq</th>\n",
       "      <th>gene</th>\n",
       "      <th>utr3</th>\n",
       "      <th>utr5</th>\n",
       "      <th>cds</th>\n",
       "      <th>AU_contant</th>\n",
       "      <th>start_loc</th>\n",
       "      <th>end_loc</th>\n",
       "      <th>count_paired</th>\n",
       "      <th>max_length</th>\n",
       "      <th>pos_longest</th>\n",
       "      <th>three_prime</th>\n",
       "    </tr>\n",
       "  </thead>\n",
       "  <tbody>\n",
       "    <tr>\n",
       "      <th>0</th>\n",
       "      <td>ACTGGGTCACGTAGGCCCCTGACGTAG</td>\n",
       "      <td>A1BG</td>\n",
       "      <td>TGCAGCCGCGGGCCCAGGGTGCTGTTGGTGTCCTCAGAAGTGCCGG...</td>\n",
       "      <td>ATTGCTGCAGACGCTCACCCCAGACACTCACTGCACCGGAGTGAGC...</td>\n",
       "      <td>ATGTCCATGCTCGTGGTCTTTCTCTTGCTGTGGGGTGTCACCTGGG...</td>\n",
       "      <td>2.020532</td>\n",
       "      <td>0</td>\n",
       "      <td>27</td>\n",
       "      <td>11</td>\n",
       "      <td>3</td>\n",
       "      <td>38</td>\n",
       "      <td>3</td>\n",
       "    </tr>\n",
       "    <tr>\n",
       "      <th>1</th>\n",
       "      <td>ACTGGGTCACGTAGGCCCCTGACGTAG</td>\n",
       "      <td>A1CF</td>\n",
       "      <td>AGATGCTTTTTTAAATTTAAGAATAAGACACACAAAACTCTATTAA...</td>\n",
       "      <td>TTTGATATGACGATTAGAGCATAACCCGAGTGACACGTTGAATTCG...</td>\n",
       "      <td>ATGGAATCAAATCACAAATCCGGGGATGGATTGAGCGGCACTCAGA...</td>\n",
       "      <td>3.061407</td>\n",
       "      <td>3</td>\n",
       "      <td>30</td>\n",
       "      <td>8</td>\n",
       "      <td>3</td>\n",
       "      <td>39</td>\n",
       "      <td>2</td>\n",
       "    </tr>\n",
       "    <tr>\n",
       "      <th>2</th>\n",
       "      <td>ACTGGGTCACGTAGGCCCCTGACGTAG</td>\n",
       "      <td>A2M</td>\n",
       "      <td>AGACCACAAGGCTGAAAAGTGCTTTGCTGGAGTCCTGTTCTCAGAG...</td>\n",
       "      <td>GGGACCAGATGGATTGTAGGGAGTAGGGTACAATACAGTCTGTTCT...</td>\n",
       "      <td>ATGGGGAAGAACAAACTCCTTCATCCAAGTCTGGTTCTTCTCCTCT...</td>\n",
       "      <td>1.697871</td>\n",
       "      <td>12</td>\n",
       "      <td>39</td>\n",
       "      <td>8</td>\n",
       "      <td>3</td>\n",
       "      <td>39</td>\n",
       "      <td>3</td>\n",
       "    </tr>\n",
       "    <tr>\n",
       "      <th>3</th>\n",
       "      <td>ACTGGGTCACGTAGGCCCCTGACGTAG</td>\n",
       "      <td>A2ML1</td>\n",
       "      <td>GGATAGGAGCTGGAAACTCAATTAGTCCTCTGTGACATTTACTGGA...</td>\n",
       "      <td>GACCCTGGAAAAATCTGTCTCACCCACAAAG</td>\n",
       "      <td>ATGTGGGCTCAGCTCCTTCTAGGAATGTTGGCCCTATCACCAGCCA...</td>\n",
       "      <td>1.556215</td>\n",
       "      <td>3</td>\n",
       "      <td>30</td>\n",
       "      <td>7</td>\n",
       "      <td>2</td>\n",
       "      <td>39</td>\n",
       "      <td>1</td>\n",
       "    </tr>\n",
       "    <tr>\n",
       "      <th>4</th>\n",
       "      <td>ACTGGGTCACGTAGGCCCCTGACGTAG</td>\n",
       "      <td>A4GALT</td>\n",
       "      <td>GGGGCCCGCCAGGTCACCTCCCCAACCTGCTCCTGATGGGGCACTG...</td>\n",
       "      <td>AGATGGATTTGCAGCCGCTGCAAGTGTGTGGAAGGGCCGTGTTCGT...</td>\n",
       "      <td>ATGTCCAAGCCCCCCGACCTCCTGCTGCGGCTGCTCCGGGGCGCCC...</td>\n",
       "      <td>1.393580</td>\n",
       "      <td>13</td>\n",
       "      <td>40</td>\n",
       "      <td>7</td>\n",
       "      <td>3</td>\n",
       "      <td>41</td>\n",
       "      <td>4</td>\n",
       "    </tr>\n",
       "    <tr>\n",
       "      <th>...</th>\n",
       "      <td>...</td>\n",
       "      <td>...</td>\n",
       "      <td>...</td>\n",
       "      <td>...</td>\n",
       "      <td>...</td>\n",
       "      <td>...</td>\n",
       "      <td>...</td>\n",
       "      <td>...</td>\n",
       "      <td>...</td>\n",
       "      <td>...</td>\n",
       "      <td>...</td>\n",
       "      <td>...</td>\n",
       "    </tr>\n",
       "    <tr>\n",
       "      <th>16601</th>\n",
       "      <td>ACTGGGTCACGTAGGCCCCTGACGTAG</td>\n",
       "      <td>ZYG11B</td>\n",
       "      <td>TAGCCATAAGTATTGGATAGTTGAATCACAGGAATCCTTTTTGTGA...</td>\n",
       "      <td>GGAGTCTGCGCTCTGGTTCGGGCTGCGGCTGCGGCTGCGGCTGCGG...</td>\n",
       "      <td>ATGCCCGAGGACCAGGCCGGCGCAGCCATGGAGGAGGCGTCTCCCT...</td>\n",
       "      <td>1.918910</td>\n",
       "      <td>0</td>\n",
       "      <td>27</td>\n",
       "      <td>12</td>\n",
       "      <td>3</td>\n",
       "      <td>36</td>\n",
       "      <td>3</td>\n",
       "    </tr>\n",
       "    <tr>\n",
       "      <th>16602</th>\n",
       "      <td>ACTGGGTCACGTAGGCCCCTGACGTAG</td>\n",
       "      <td>ZYX</td>\n",
       "      <td>GTGAGGACAGGCCCTCTTCAGACCGCAGTCCATGCCCCATTGTGGA...</td>\n",
       "      <td>GCAGAGTCTGCGGACCCGGCGCCGAGGCGGCCACCCGAGACGCGGC...</td>\n",
       "      <td>ATGGCGGCCCCCCGCCCGTCTCCCGCGATCTCCGTTTCGGTCTCGG...</td>\n",
       "      <td>1.125359</td>\n",
       "      <td>1</td>\n",
       "      <td>28</td>\n",
       "      <td>6</td>\n",
       "      <td>3</td>\n",
       "      <td>42</td>\n",
       "      <td>3</td>\n",
       "    </tr>\n",
       "    <tr>\n",
       "      <th>16603</th>\n",
       "      <td>ACTGGGTCACGTAGGCCCCTGACGTAG</td>\n",
       "      <td>ZZEF1</td>\n",
       "      <td>CCCTTGGTGGGGCGTGCATGGGACTAGTTCATCTGCCACAGGGATT...</td>\n",
       "      <td>AGGAAGCCGGAAGCCGCAGGGGCCGCCGTCGTCTCCTCCGCGTCCC...</td>\n",
       "      <td>ATGGGGAACGCTCCGAGTCACAGCAGTGAAGACGAAGCGGCAGCTG...</td>\n",
       "      <td>1.328136</td>\n",
       "      <td>3</td>\n",
       "      <td>30</td>\n",
       "      <td>11</td>\n",
       "      <td>6</td>\n",
       "      <td>35</td>\n",
       "      <td>1</td>\n",
       "    </tr>\n",
       "    <tr>\n",
       "      <th>16604</th>\n",
       "      <td>ACTGGGTCACGTAGGCCCCTGACGTAG</td>\n",
       "      <td>ZZZ3</td>\n",
       "      <td>CATGGAAGAGAACATCATTTACTAGTCCTCTTCAACACATAGCAAT...</td>\n",
       "      <td>GTTGGCAGAGCAGTTGTCCTGGATGGCGGAGCCTTGGGTTCCGGGG...</td>\n",
       "      <td>ATGATAGATCTTTGGTTGTACAGTTATCAGAGACTATTACAGACGA...</td>\n",
       "      <td>1.762528</td>\n",
       "      <td>2</td>\n",
       "      <td>29</td>\n",
       "      <td>9</td>\n",
       "      <td>4</td>\n",
       "      <td>39</td>\n",
       "      <td>3</td>\n",
       "    </tr>\n",
       "    <tr>\n",
       "      <th>16605</th>\n",
       "      <td>ACTGGGTCACGTAGGCCCCTGACGTAG</td>\n",
       "      <td>NaN</td>\n",
       "      <td>GGATGAACTTGTTCCATTATTTGAGAAAGCTGGACCTATATGGGAT...</td>\n",
       "      <td>ACAGCTCCACTCGCGCCGGACACAGGGAGCAGCGAGCACGCGTTTC...</td>\n",
       "      <td>ATGCCTGTGCCCTGGTTCTTGCTGTCCTTGGCACTGGGCCGAAGCC...</td>\n",
       "      <td>1.832272</td>\n",
       "      <td>3</td>\n",
       "      <td>30</td>\n",
       "      <td>9</td>\n",
       "      <td>3</td>\n",
       "      <td>41</td>\n",
       "      <td>4</td>\n",
       "    </tr>\n",
       "  </tbody>\n",
       "</table>\n",
       "<p>16606 rows × 12 columns</p>\n",
       "</div>"
      ],
      "text/plain": [
       "                           trf_seq    gene  \\\n",
       "0      ACTGGGTCACGTAGGCCCCTGACGTAG    A1BG   \n",
       "1      ACTGGGTCACGTAGGCCCCTGACGTAG    A1CF   \n",
       "2      ACTGGGTCACGTAGGCCCCTGACGTAG     A2M   \n",
       "3      ACTGGGTCACGTAGGCCCCTGACGTAG   A2ML1   \n",
       "4      ACTGGGTCACGTAGGCCCCTGACGTAG  A4GALT   \n",
       "...                            ...     ...   \n",
       "16601  ACTGGGTCACGTAGGCCCCTGACGTAG  ZYG11B   \n",
       "16602  ACTGGGTCACGTAGGCCCCTGACGTAG     ZYX   \n",
       "16603  ACTGGGTCACGTAGGCCCCTGACGTAG   ZZEF1   \n",
       "16604  ACTGGGTCACGTAGGCCCCTGACGTAG    ZZZ3   \n",
       "16605  ACTGGGTCACGTAGGCCCCTGACGTAG     NaN   \n",
       "\n",
       "                                                    utr3  \\\n",
       "0      TGCAGCCGCGGGCCCAGGGTGCTGTTGGTGTCCTCAGAAGTGCCGG...   \n",
       "1      AGATGCTTTTTTAAATTTAAGAATAAGACACACAAAACTCTATTAA...   \n",
       "2      AGACCACAAGGCTGAAAAGTGCTTTGCTGGAGTCCTGTTCTCAGAG...   \n",
       "3      GGATAGGAGCTGGAAACTCAATTAGTCCTCTGTGACATTTACTGGA...   \n",
       "4      GGGGCCCGCCAGGTCACCTCCCCAACCTGCTCCTGATGGGGCACTG...   \n",
       "...                                                  ...   \n",
       "16601  TAGCCATAAGTATTGGATAGTTGAATCACAGGAATCCTTTTTGTGA...   \n",
       "16602  GTGAGGACAGGCCCTCTTCAGACCGCAGTCCATGCCCCATTGTGGA...   \n",
       "16603  CCCTTGGTGGGGCGTGCATGGGACTAGTTCATCTGCCACAGGGATT...   \n",
       "16604  CATGGAAGAGAACATCATTTACTAGTCCTCTTCAACACATAGCAAT...   \n",
       "16605  GGATGAACTTGTTCCATTATTTGAGAAAGCTGGACCTATATGGGAT...   \n",
       "\n",
       "                                                    utr5  \\\n",
       "0      ATTGCTGCAGACGCTCACCCCAGACACTCACTGCACCGGAGTGAGC...   \n",
       "1      TTTGATATGACGATTAGAGCATAACCCGAGTGACACGTTGAATTCG...   \n",
       "2      GGGACCAGATGGATTGTAGGGAGTAGGGTACAATACAGTCTGTTCT...   \n",
       "3                        GACCCTGGAAAAATCTGTCTCACCCACAAAG   \n",
       "4      AGATGGATTTGCAGCCGCTGCAAGTGTGTGGAAGGGCCGTGTTCGT...   \n",
       "...                                                  ...   \n",
       "16601  GGAGTCTGCGCTCTGGTTCGGGCTGCGGCTGCGGCTGCGGCTGCGG...   \n",
       "16602  GCAGAGTCTGCGGACCCGGCGCCGAGGCGGCCACCCGAGACGCGGC...   \n",
       "16603  AGGAAGCCGGAAGCCGCAGGGGCCGCCGTCGTCTCCTCCGCGTCCC...   \n",
       "16604  GTTGGCAGAGCAGTTGTCCTGGATGGCGGAGCCTTGGGTTCCGGGG...   \n",
       "16605  ACAGCTCCACTCGCGCCGGACACAGGGAGCAGCGAGCACGCGTTTC...   \n",
       "\n",
       "                                                     cds  AU_contant  \\\n",
       "0      ATGTCCATGCTCGTGGTCTTTCTCTTGCTGTGGGGTGTCACCTGGG...    2.020532   \n",
       "1      ATGGAATCAAATCACAAATCCGGGGATGGATTGAGCGGCACTCAGA...    3.061407   \n",
       "2      ATGGGGAAGAACAAACTCCTTCATCCAAGTCTGGTTCTTCTCCTCT...    1.697871   \n",
       "3      ATGTGGGCTCAGCTCCTTCTAGGAATGTTGGCCCTATCACCAGCCA...    1.556215   \n",
       "4      ATGTCCAAGCCCCCCGACCTCCTGCTGCGGCTGCTCCGGGGCGCCC...    1.393580   \n",
       "...                                                  ...         ...   \n",
       "16601  ATGCCCGAGGACCAGGCCGGCGCAGCCATGGAGGAGGCGTCTCCCT...    1.918910   \n",
       "16602  ATGGCGGCCCCCCGCCCGTCTCCCGCGATCTCCGTTTCGGTCTCGG...    1.125359   \n",
       "16603  ATGGGGAACGCTCCGAGTCACAGCAGTGAAGACGAAGCGGCAGCTG...    1.328136   \n",
       "16604  ATGATAGATCTTTGGTTGTACAGTTATCAGAGACTATTACAGACGA...    1.762528   \n",
       "16605  ATGCCTGTGCCCTGGTTCTTGCTGTCCTTGGCACTGGGCCGAAGCC...    1.832272   \n",
       "\n",
       "       start_loc  end_loc  count_paired  max_length  pos_longest  three_prime  \n",
       "0              0       27            11           3           38            3  \n",
       "1              3       30             8           3           39            2  \n",
       "2             12       39             8           3           39            3  \n",
       "3              3       30             7           2           39            1  \n",
       "4             13       40             7           3           41            4  \n",
       "...          ...      ...           ...         ...          ...          ...  \n",
       "16601          0       27            12           3           36            3  \n",
       "16602          1       28             6           3           42            3  \n",
       "16603          3       30            11           6           35            1  \n",
       "16604          2       29             9           4           39            3  \n",
       "16605          3       30             9           3           41            4  \n",
       "\n",
       "[16606 rows x 12 columns]"
      ]
     },
     "execution_count": 74,
     "metadata": {},
     "output_type": "execute_result"
    }
   ],
   "source": [
    "trf_feature"
   ]
  },
  {
   "cell_type": "code",
   "execution_count": 67,
   "metadata": {},
   "outputs": [
    {
     "name": "stdout",
     "output_type": "stream",
     "text": [
      "3\n"
     ]
    }
   ],
   "source": [
    "#统计字符串中连续的重复字符个数\n",
    "def maxDup(strs):\n",
    "    n=len(strs)\n",
    "    maxlen=1\n",
    "    length=1\n",
    "    maxstr=[]\n",
    "    for i in range(n-1): \n",
    "        if strs[i]==strs[i+1]:\n",
    "            length+=1\n",
    "            maxstr.append(strs[i+1])\n",
    "            if length>maxlen:\n",
    "                maxlen=length\n",
    "        else:\n",
    "            length=1\n",
    "    print(maxlen)\n",
    "if __name__ == '__main__':\n",
    "    strs='abbbc'\n",
    "    maxDup(strs) #结果为3\n"
   ]
  },
  {
   "cell_type": "code",
   "execution_count": 68,
   "metadata": {},
   "outputs": [
    {
     "data": {
      "text/plain": [
       "'3'"
      ]
     },
     "execution_count": 68,
     "metadata": {},
     "output_type": "execute_result"
    }
   ],
   "source": [
    "str(3)"
   ]
  },
  {
   "cell_type": "markdown",
   "metadata": {},
   "source": [
    "定义特征计算函数"
   ]
  },
  {
   "cell_type": "code",
   "execution_count": 11,
   "metadata": {},
   "outputs": [
    {
     "name": "stdout",
     "output_type": "stream",
     "text": [
      "the weight is: 12\n"
     ]
    }
   ],
   "source": [
    "class animal:\n",
    "    def __init__(self,name,high,weight):\n",
    "        self.name = name\n",
    "        self.high = high\n",
    "        self.weight = weight\n",
    "        \n",
    "    def eat(self,weight):\n",
    "        all_weight = self.weight\n",
    "        print(\"the weight is:\",all_weight)\n",
    "        \n",
    "\n",
    "if __name__ == \"__main__\":\n",
    "    animals = animal(\"dog\",34,12)\n",
    "    animals.eat(23)\n",
    "\n"
   ]
  },
  {
   "cell_type": "code",
   "execution_count": null,
   "metadata": {},
   "outputs": [],
   "source": []
  },
  {
   "cell_type": "code",
   "execution_count": 6,
   "metadata": {},
   "outputs": [
    {
     "ename": "SyntaxError",
     "evalue": "unexpected EOF while parsing (<ipython-input-6-3508f280bf5f>, line 17)",
     "output_type": "error",
     "traceback": [
      "\u001b[1;36m  File \u001b[1;32m\"<ipython-input-6-3508f280bf5f>\"\u001b[1;36m, line \u001b[1;32m17\u001b[0m\n\u001b[1;33m    \u001b[0m\n\u001b[1;37m    ^\u001b[0m\n\u001b[1;31mSyntaxError\u001b[0m\u001b[1;31m:\u001b[0m unexpected EOF while parsing\n"
     ]
    }
   ],
   "source": [
    "class feature_caculation:\n",
    "    def __init__(self, feature_list):\n",
    "        self.feature_list = feature_list\n",
    "        \n",
    "    def seed(self):\n",
    "        pass\n",
    "        \n",
    "        \n",
    "    def bind_location(self):\n",
    "        pass\n",
    "    \n",
    "    \n",
    "    def max_loc(self):\n",
    "        pass\n",
    "        \n",
    "        \n",
    "        "
   ]
  },
  {
   "cell_type": "markdown",
   "metadata": {},
   "source": [
    "获取数据：利用pandas读取数据，进行预处理\n",
    "\n",
    "将预处理后的数据转换成我们需要的格式\n",
    "\n",
    "调用我们需要用到的机器学习模型\n",
    "\n"
   ]
  },
  {
   "cell_type": "code",
   "execution_count": 1,
   "metadata": {},
   "outputs": [],
   "source": [
    "# 数据读取\n",
    "import pandas as pd\n",
    "import numpy as np\n",
    "import matplotlib.pyplot as plt\n"
   ]
  },
  {
   "cell_type": "code",
   "execution_count": 2,
   "metadata": {},
   "outputs": [],
   "source": []
  },
  {
   "cell_type": "code",
   "execution_count": 8,
   "metadata": {},
   "outputs": [],
   "source": []
  },
  {
   "cell_type": "code",
   "execution_count": 12,
   "metadata": {},
   "outputs": [],
   "source": []
  },
  {
   "cell_type": "code",
   "execution_count": null,
   "metadata": {},
   "outputs": [],
   "source": []
  }
 ],
 "metadata": {
  "kernelspec": {
   "display_name": "Python 3",
   "language": "python",
   "name": "python3"
  },
  "language_info": {
   "codemirror_mode": {
    "name": "ipython",
    "version": 3
   },
   "file_extension": ".py",
   "mimetype": "text/x-python",
   "name": "python",
   "nbconvert_exporter": "python",
   "pygments_lexer": "ipython3",
   "version": "3.8.5"
  }
 },
 "nbformat": 4,
 "nbformat_minor": 4
}
